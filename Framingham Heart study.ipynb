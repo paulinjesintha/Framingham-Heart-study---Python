{
  "cells": [
    {
      "cell_type": "markdown",
      "metadata": {
        "id": "NU9o1quW8aK3"
      },
      "source": [
        "# **<span style=\"color:#023e8a;font-size:200%\"><center>Analysis of Framingham Heart Study</center></span>**\n",
        "\n",
        "\n",
        "\n",
        "\n"
      ]
    },
    {
      "cell_type": "markdown",
      "metadata": {
        "id": "CUeVeBoKMsHs"
      },
      "source": [
        "**Introduction:**\n",
        "\n",
        "This project aims to analyse the Framingham Heart study dataset, which holds data about 4240 patient records along with 16 attributes and details on age, diabetes, cholestrol levels, strokes, BMI values etc.\n",
        "\n",
        "Post analysis, the project aims to find possible correlation between the variables and paint a clear picture on the possible factors for certain health metrics"
      ]
    },
    {
      "cell_type": "markdown",
      "metadata": {
        "id": "py6fKKmF8z_J"
      },
      "source": [
        "#**Data Import**"
      ]
    },
    {
      "cell_type": "code",
      "execution_count": null,
      "metadata": {
        "colab": {
          "base_uri": "https://localhost:8080/",
          "height": 287
        },
        "id": "aERkvvP58ACl",
        "outputId": "5e88edc5-2f25-4556-c924-9e57dde98d3a"
      },
      "outputs": [
        {
          "output_type": "stream",
          "name": "stdout",
          "text": [
            "(4240, 16)\n"
          ]
        },
        {
          "output_type": "execute_result",
          "data": {
            "text/plain": [
              "   male  age  education  currentSmoker  cigsPerDay  BPMeds  prevalentStroke  \\\n",
              "0     1   39        4.0              0         0.0     0.0                0   \n",
              "1     0   46        2.0              0         0.0     0.0                0   \n",
              "2     1   48        1.0              1        20.0     0.0                0   \n",
              "3     0   61        3.0              1        30.0     0.0                0   \n",
              "4     0   46        3.0              1        23.0     0.0                0   \n",
              "\n",
              "   prevalentHyp  diabetes  totChol  sysBP  diaBP    BMI  heartRate  glucose  \\\n",
              "0             0         0    195.0  106.0   70.0  26.97       80.0     77.0   \n",
              "1             0         0    250.0  121.0   81.0  28.73       95.0     76.0   \n",
              "2             0         0    245.0  127.5   80.0  25.34       75.0     70.0   \n",
              "3             1         0    225.0  150.0   95.0  28.58       65.0    103.0   \n",
              "4             0         0    285.0  130.0   84.0  23.10       85.0     85.0   \n",
              "\n",
              "   TenYearCHD  \n",
              "0           0  \n",
              "1           0  \n",
              "2           0  \n",
              "3           1  \n",
              "4           0  "
            ],
            "text/html": [
              "\n",
              "  <div id=\"df-033d4bba-c99e-43fe-afd3-8099c1008319\">\n",
              "    <div class=\"colab-df-container\">\n",
              "      <div>\n",
              "<style scoped>\n",
              "    .dataframe tbody tr th:only-of-type {\n",
              "        vertical-align: middle;\n",
              "    }\n",
              "\n",
              "    .dataframe tbody tr th {\n",
              "        vertical-align: top;\n",
              "    }\n",
              "\n",
              "    .dataframe thead th {\n",
              "        text-align: right;\n",
              "    }\n",
              "</style>\n",
              "<table border=\"1\" class=\"dataframe\">\n",
              "  <thead>\n",
              "    <tr style=\"text-align: right;\">\n",
              "      <th></th>\n",
              "      <th>male</th>\n",
              "      <th>age</th>\n",
              "      <th>education</th>\n",
              "      <th>currentSmoker</th>\n",
              "      <th>cigsPerDay</th>\n",
              "      <th>BPMeds</th>\n",
              "      <th>prevalentStroke</th>\n",
              "      <th>prevalentHyp</th>\n",
              "      <th>diabetes</th>\n",
              "      <th>totChol</th>\n",
              "      <th>sysBP</th>\n",
              "      <th>diaBP</th>\n",
              "      <th>BMI</th>\n",
              "      <th>heartRate</th>\n",
              "      <th>glucose</th>\n",
              "      <th>TenYearCHD</th>\n",
              "    </tr>\n",
              "  </thead>\n",
              "  <tbody>\n",
              "    <tr>\n",
              "      <th>0</th>\n",
              "      <td>1</td>\n",
              "      <td>39</td>\n",
              "      <td>4.0</td>\n",
              "      <td>0</td>\n",
              "      <td>0.0</td>\n",
              "      <td>0.0</td>\n",
              "      <td>0</td>\n",
              "      <td>0</td>\n",
              "      <td>0</td>\n",
              "      <td>195.0</td>\n",
              "      <td>106.0</td>\n",
              "      <td>70.0</td>\n",
              "      <td>26.97</td>\n",
              "      <td>80.0</td>\n",
              "      <td>77.0</td>\n",
              "      <td>0</td>\n",
              "    </tr>\n",
              "    <tr>\n",
              "      <th>1</th>\n",
              "      <td>0</td>\n",
              "      <td>46</td>\n",
              "      <td>2.0</td>\n",
              "      <td>0</td>\n",
              "      <td>0.0</td>\n",
              "      <td>0.0</td>\n",
              "      <td>0</td>\n",
              "      <td>0</td>\n",
              "      <td>0</td>\n",
              "      <td>250.0</td>\n",
              "      <td>121.0</td>\n",
              "      <td>81.0</td>\n",
              "      <td>28.73</td>\n",
              "      <td>95.0</td>\n",
              "      <td>76.0</td>\n",
              "      <td>0</td>\n",
              "    </tr>\n",
              "    <tr>\n",
              "      <th>2</th>\n",
              "      <td>1</td>\n",
              "      <td>48</td>\n",
              "      <td>1.0</td>\n",
              "      <td>1</td>\n",
              "      <td>20.0</td>\n",
              "      <td>0.0</td>\n",
              "      <td>0</td>\n",
              "      <td>0</td>\n",
              "      <td>0</td>\n",
              "      <td>245.0</td>\n",
              "      <td>127.5</td>\n",
              "      <td>80.0</td>\n",
              "      <td>25.34</td>\n",
              "      <td>75.0</td>\n",
              "      <td>70.0</td>\n",
              "      <td>0</td>\n",
              "    </tr>\n",
              "    <tr>\n",
              "      <th>3</th>\n",
              "      <td>0</td>\n",
              "      <td>61</td>\n",
              "      <td>3.0</td>\n",
              "      <td>1</td>\n",
              "      <td>30.0</td>\n",
              "      <td>0.0</td>\n",
              "      <td>0</td>\n",
              "      <td>1</td>\n",
              "      <td>0</td>\n",
              "      <td>225.0</td>\n",
              "      <td>150.0</td>\n",
              "      <td>95.0</td>\n",
              "      <td>28.58</td>\n",
              "      <td>65.0</td>\n",
              "      <td>103.0</td>\n",
              "      <td>1</td>\n",
              "    </tr>\n",
              "    <tr>\n",
              "      <th>4</th>\n",
              "      <td>0</td>\n",
              "      <td>46</td>\n",
              "      <td>3.0</td>\n",
              "      <td>1</td>\n",
              "      <td>23.0</td>\n",
              "      <td>0.0</td>\n",
              "      <td>0</td>\n",
              "      <td>0</td>\n",
              "      <td>0</td>\n",
              "      <td>285.0</td>\n",
              "      <td>130.0</td>\n",
              "      <td>84.0</td>\n",
              "      <td>23.10</td>\n",
              "      <td>85.0</td>\n",
              "      <td>85.0</td>\n",
              "      <td>0</td>\n",
              "    </tr>\n",
              "  </tbody>\n",
              "</table>\n",
              "</div>\n",
              "      <button class=\"colab-df-convert\" onclick=\"convertToInteractive('df-033d4bba-c99e-43fe-afd3-8099c1008319')\"\n",
              "              title=\"Convert this dataframe to an interactive table.\"\n",
              "              style=\"display:none;\">\n",
              "        \n",
              "  <svg xmlns=\"http://www.w3.org/2000/svg\" height=\"24px\"viewBox=\"0 0 24 24\"\n",
              "       width=\"24px\">\n",
              "    <path d=\"M0 0h24v24H0V0z\" fill=\"none\"/>\n",
              "    <path d=\"M18.56 5.44l.94 2.06.94-2.06 2.06-.94-2.06-.94-.94-2.06-.94 2.06-2.06.94zm-11 1L8.5 8.5l.94-2.06 2.06-.94-2.06-.94L8.5 2.5l-.94 2.06-2.06.94zm10 10l.94 2.06.94-2.06 2.06-.94-2.06-.94-.94-2.06-.94 2.06-2.06.94z\"/><path d=\"M17.41 7.96l-1.37-1.37c-.4-.4-.92-.59-1.43-.59-.52 0-1.04.2-1.43.59L10.3 9.45l-7.72 7.72c-.78.78-.78 2.05 0 2.83L4 21.41c.39.39.9.59 1.41.59.51 0 1.02-.2 1.41-.59l7.78-7.78 2.81-2.81c.8-.78.8-2.07 0-2.86zM5.41 20L4 18.59l7.72-7.72 1.47 1.35L5.41 20z\"/>\n",
              "  </svg>\n",
              "      </button>\n",
              "      \n",
              "  <style>\n",
              "    .colab-df-container {\n",
              "      display:flex;\n",
              "      flex-wrap:wrap;\n",
              "      gap: 12px;\n",
              "    }\n",
              "\n",
              "    .colab-df-convert {\n",
              "      background-color: #E8F0FE;\n",
              "      border: none;\n",
              "      border-radius: 50%;\n",
              "      cursor: pointer;\n",
              "      display: none;\n",
              "      fill: #1967D2;\n",
              "      height: 32px;\n",
              "      padding: 0 0 0 0;\n",
              "      width: 32px;\n",
              "    }\n",
              "\n",
              "    .colab-df-convert:hover {\n",
              "      background-color: #E2EBFA;\n",
              "      box-shadow: 0px 1px 2px rgba(60, 64, 67, 0.3), 0px 1px 3px 1px rgba(60, 64, 67, 0.15);\n",
              "      fill: #174EA6;\n",
              "    }\n",
              "\n",
              "    [theme=dark] .colab-df-convert {\n",
              "      background-color: #3B4455;\n",
              "      fill: #D2E3FC;\n",
              "    }\n",
              "\n",
              "    [theme=dark] .colab-df-convert:hover {\n",
              "      background-color: #434B5C;\n",
              "      box-shadow: 0px 1px 3px 1px rgba(0, 0, 0, 0.15);\n",
              "      filter: drop-shadow(0px 1px 2px rgba(0, 0, 0, 0.3));\n",
              "      fill: #FFFFFF;\n",
              "    }\n",
              "  </style>\n",
              "\n",
              "      <script>\n",
              "        const buttonEl =\n",
              "          document.querySelector('#df-033d4bba-c99e-43fe-afd3-8099c1008319 button.colab-df-convert');\n",
              "        buttonEl.style.display =\n",
              "          google.colab.kernel.accessAllowed ? 'block' : 'none';\n",
              "\n",
              "        async function convertToInteractive(key) {\n",
              "          const element = document.querySelector('#df-033d4bba-c99e-43fe-afd3-8099c1008319');\n",
              "          const dataTable =\n",
              "            await google.colab.kernel.invokeFunction('convertToInteractive',\n",
              "                                                     [key], {});\n",
              "          if (!dataTable) return;\n",
              "\n",
              "          const docLinkHtml = 'Like what you see? Visit the ' +\n",
              "            '<a target=\"_blank\" href=https://colab.research.google.com/notebooks/data_table.ipynb>data table notebook</a>'\n",
              "            + ' to learn more about interactive tables.';\n",
              "          element.innerHTML = '';\n",
              "          dataTable['output_type'] = 'display_data';\n",
              "          await google.colab.output.renderOutput(dataTable, element);\n",
              "          const docLink = document.createElement('div');\n",
              "          docLink.innerHTML = docLinkHtml;\n",
              "          element.appendChild(docLink);\n",
              "        }\n",
              "      </script>\n",
              "    </div>\n",
              "  </div>\n",
              "  "
            ]
          },
          "metadata": {},
          "execution_count": 2
        }
      ],
      "source": [
        "import pandas as pd\n",
        "url=\"https://raw.githubusercontent.com/soltaniehha/Intro-to-Data-Analytics/main/data/AnalyticsEdge-Datasets/Framingham.csv\"\n",
        "df=pd.read_csv(url)\n",
        "print(df.shape)\n",
        "df.head()"
      ]
    },
    {
      "cell_type": "markdown",
      "metadata": {
        "id": "hn62tXXDHMtZ"
      },
      "source": [
        "We see that most of the columns such as education, currentsmoker, prevelentstroke, TenyearCHD are binary values indicating yes/no type questions with values 0/1."
      ]
    },
    {
      "cell_type": "markdown",
      "metadata": {
        "id": "d1wfF7jsxvPc"
      },
      "source": [
        "**Dataset Description** "
      ]
    },
    {
      "cell_type": "markdown",
      "metadata": {
        "id": "OiPCoBzIxiSC"
      },
      "source": [
        "Variable  | Type | Comments \n",
        "-------------------|------------------|------------------\n",
        "male      | Categorical | Gender: Male(1) and Female(0)\n",
        "age | Numerical| Age of the patient\n",
        "education| Categorical | Level of education obtained\n",
        "currentSmoker | Categorical | Indicates if the person currently smokes Yes(1) and No(0)\n",
        "cigsPerDay | Numerical | Average number of cigarettes smoked per day\n",
        "BPMeds| Categorical | Whether the test subject was on blood pressure medications. Yes(1) and No(0)\n",
        "prevalentStroke | Categorical| Whether the test subject had a stroke before. Yes(1) and No(0)\n",
        "prevalentHyp | Categorical | Whether the test subject has history of Hypertension. Yes(1) and No(0)\n",
        "diabetes | Categorical | Whether the test subject has diabetes. Yes(1) and No(0)\n",
        "totChol | Numerical | Total cholestrol level\n",
        "sysBP| Numerical | Systolic blood pressure level\n",
        "diaBP | Numerical | Diastolic blood pressure level\n",
        "BMI | Numerical | Body Mass Index\n",
        "heartRate| Numerical| Heartrate \n",
        "glucose| Numerical| Glucose level\n",
        "TenYearCHD| Categorical | 10-year risk of coronary heart disease Yes(1), No(1)"
      ]
    },
    {
      "cell_type": "code",
      "execution_count": null,
      "metadata": {
        "colab": {
          "base_uri": "https://localhost:8080/"
        },
        "id": "u834UVqVcmnh",
        "outputId": "dc005242-d93c-435b-acb8-bc017fccfe44"
      },
      "outputs": [
        {
          "output_type": "stream",
          "name": "stdout",
          "text": [
            "<class 'pandas.core.frame.DataFrame'>\n",
            "RangeIndex: 4240 entries, 0 to 4239\n",
            "Data columns (total 16 columns):\n",
            " #   Column           Non-Null Count  Dtype  \n",
            "---  ------           --------------  -----  \n",
            " 0   male             4240 non-null   int64  \n",
            " 1   age              4240 non-null   int64  \n",
            " 2   education        4135 non-null   float64\n",
            " 3   currentSmoker    4240 non-null   int64  \n",
            " 4   cigsPerDay       4211 non-null   float64\n",
            " 5   BPMeds           4187 non-null   float64\n",
            " 6   prevalentStroke  4240 non-null   int64  \n",
            " 7   prevalentHyp     4240 non-null   int64  \n",
            " 8   diabetes         4240 non-null   int64  \n",
            " 9   totChol          4190 non-null   float64\n",
            " 10  sysBP            4240 non-null   float64\n",
            " 11  diaBP            4240 non-null   float64\n",
            " 12  BMI              4221 non-null   float64\n",
            " 13  heartRate        4239 non-null   float64\n",
            " 14  glucose          3852 non-null   float64\n",
            " 15  TenYearCHD       4240 non-null   int64  \n",
            "dtypes: float64(9), int64(7)\n",
            "memory usage: 530.1 KB\n"
          ]
        }
      ],
      "source": [
        "df.info()"
      ]
    },
    {
      "cell_type": "markdown",
      "metadata": {
        "id": "Py01N0gBWfpv"
      },
      "source": [
        "#1.**Data Cleaning**"
      ]
    },
    {
      "cell_type": "markdown",
      "metadata": {
        "id": "v6qDyZAI882x"
      },
      "source": [
        "Identifying Null values"
      ]
    },
    {
      "cell_type": "code",
      "execution_count": null,
      "metadata": {
        "colab": {
          "base_uri": "https://localhost:8080/"
        },
        "id": "MejS-lkm8G5g",
        "outputId": "cdda5a8f-c3db-408a-9fe8-61acd7ebddac"
      },
      "outputs": [
        {
          "output_type": "execute_result",
          "data": {
            "text/plain": [
              "male                 0\n",
              "age                  0\n",
              "education          105\n",
              "currentSmoker        0\n",
              "cigsPerDay          29\n",
              "BPMeds              53\n",
              "prevalentStroke      0\n",
              "prevalentHyp         0\n",
              "diabetes             0\n",
              "totChol             50\n",
              "sysBP                0\n",
              "diaBP                0\n",
              "BMI                 19\n",
              "heartRate            1\n",
              "glucose            388\n",
              "TenYearCHD           0\n",
              "dtype: int64"
            ]
          },
          "metadata": {},
          "execution_count": 5
        }
      ],
      "source": [
        "df.isna().sum()"
      ]
    },
    {
      "cell_type": "markdown",
      "metadata": {
        "id": "MnPd_TO4WMLZ"
      },
      "source": [
        "**Visualising the Null values**"
      ]
    },
    {
      "cell_type": "code",
      "execution_count": null,
      "metadata": {
        "colab": {
          "base_uri": "https://localhost:8080/",
          "height": 339
        },
        "id": "zm-2ekyEWo_B",
        "outputId": "6f2ac2e1-b7aa-483e-d4ff-cebc0689a841"
      },
      "outputs": [
        {
          "output_type": "display_data",
          "data": {
            "text/plain": [
              "<Figure size 432x288 with 1 Axes>"
            ],
            "image/png": "[encoded data removed]"
          },
          "metadata": {
            "needs_background": "light"
          }
        }
      ],
      "source": [
        "import seaborn as sns\n",
        "import matplotlib.pyplot as plt\n",
        "sns.heatmap(df.isnull(),cmap = 'magma',cbar = False); "
      ]
    },
    {
      "cell_type": "markdown",
      "metadata": {
        "id": "Xwyeqqn99Iiz"
      },
      "source": [
        "We notice various null values in columns \"education\", \"cigsPerDay\", \"BMI\" and more. The presence of nulls in columns such as education, cigsperday may not indicate lack of data, but rather indicates that the column was not applicable to the respective patient . (For example 0 in \"cigsperday\" might indicate that the person does not smoke)\n",
        "\n",
        "But null values in columns such as totChol, BMI, heartrate and glucose need to be addressed as all patients usually have these records (human nature).\n",
        "\n",
        "So we need to remove the respective rows to have a clear picture."
      ]
    },
    {
      "cell_type": "markdown",
      "metadata": {
        "id": "RJcARhemfo8S"
      },
      "source": [
        "## 1.1 Dealing with Null values"
      ]
    },
    {
      "cell_type": "code",
      "execution_count": null,
      "metadata": {
        "colab": {
          "base_uri": "https://localhost:8080/",
          "height": 488
        },
        "id": "xYLVKNszy0AT",
        "outputId": "0e66e94f-0e52-47bb-ec10-407460d72748"
      },
      "outputs": [
        {
          "output_type": "execute_result",
          "data": {
            "text/plain": [
              "      male  age  education  currentSmoker  cigsPerDay  BPMeds  \\\n",
              "0        1   39        4.0              0         0.0     0.0   \n",
              "1        0   46        2.0              0         0.0     0.0   \n",
              "2        1   48        1.0              1        20.0     0.0   \n",
              "3        0   61        3.0              1        30.0     0.0   \n",
              "4        0   46        3.0              1        23.0     0.0   \n",
              "...    ...  ...        ...            ...         ...     ...   \n",
              "4233     1   50        1.0              1         1.0     0.0   \n",
              "4234     1   51        3.0              1        43.0     0.0   \n",
              "4237     0   52        2.0              0         0.0     0.0   \n",
              "4238     1   40        3.0              0         0.0     0.0   \n",
              "4239     0   39        3.0              1        30.0     0.0   \n",
              "\n",
              "      prevalentStroke  prevalentHyp  diabetes  totChol  sysBP  diaBP    BMI  \\\n",
              "0                   0             0         0    195.0  106.0   70.0  26.97   \n",
              "1                   0             0         0    250.0  121.0   81.0  28.73   \n",
              "2                   0             0         0    245.0  127.5   80.0  25.34   \n",
              "3                   0             1         0    225.0  150.0   95.0  28.58   \n",
              "4                   0             0         0    285.0  130.0   84.0  23.10   \n",
              "...               ...           ...       ...      ...    ...    ...    ...   \n",
              "4233                0             1         0    313.0  179.0   92.0  25.97   \n",
              "4234                0             0         0    207.0  126.5   80.0  19.71   \n",
              "4237                0             0         0    269.0  133.5   83.0  21.47   \n",
              "4238                0             1         0    185.0  141.0   98.0  25.60   \n",
              "4239                0             0         0    196.0  133.0   86.0  20.91   \n",
              "\n",
              "      heartRate  glucose  TenYearCHD  \n",
              "0          80.0     77.0           0  \n",
              "1          95.0     76.0           0  \n",
              "2          75.0     70.0           0  \n",
              "3          65.0    103.0           1  \n",
              "4          85.0     85.0           0  \n",
              "...         ...      ...         ...  \n",
              "4233       66.0     86.0           1  \n",
              "4234       65.0     68.0           0  \n",
              "4237       80.0    107.0           0  \n",
              "4238       67.0     72.0           0  \n",
              "4239       85.0     80.0           0  \n",
              "\n",
              "[3658 rows x 16 columns]"
            ],
            "text/html": [
              "\n",
              "  <div id=\"df-c3c5913a-a1be-4218-9e21-09205b9f9853\">\n",
              "    <div class=\"colab-df-container\">\n",
              "      <div>\n",
              "<style scoped>\n",
              "    .dataframe tbody tr th:only-of-type {\n",
              "        vertical-align: middle;\n",
              "    }\n",
              "\n",
              "    .dataframe tbody tr th {\n",
              "        vertical-align: top;\n",
              "    }\n",
              "\n",
              "    .dataframe thead th {\n",
              "        text-align: right;\n",
              "    }\n",
              "</style>\n",
              "<table border=\"1\" class=\"dataframe\">\n",
              "  <thead>\n",
              "    <tr style=\"text-align: right;\">\n",
              "      <th></th>\n",
              "      <th>male</th>\n",
              "      <th>age</th>\n",
              "      <th>education</th>\n",
              "      <th>currentSmoker</th>\n",
              "      <th>cigsPerDay</th>\n",
              "      <th>BPMeds</th>\n",
              "      <th>prevalentStroke</th>\n",
              "      <th>prevalentHyp</th>\n",
              "      <th>diabetes</th>\n",
              "      <th>totChol</th>\n",
              "      <th>sysBP</th>\n",
              "      <th>diaBP</th>\n",
              "      <th>BMI</th>\n",
              "      <th>heartRate</th>\n",
              "      <th>glucose</th>\n",
              "      <th>TenYearCHD</th>\n",
              "    </tr>\n",
              "  </thead>\n",
              "  <tbody>\n",
              "    <tr>\n",
              "      <th>0</th>\n",
              "      <td>1</td>\n",
              "      <td>39</td>\n",
              "      <td>4.0</td>\n",
              "      <td>0</td>\n",
              "      <td>0.0</td>\n",
              "      <td>0.0</td>\n",
              "      <td>0</td>\n",
              "      <td>0</td>\n",
              "      <td>0</td>\n",
              "      <td>195.0</td>\n",
              "      <td>106.0</td>\n",
              "      <td>70.0</td>\n",
              "      <td>26.97</td>\n",
              "      <td>80.0</td>\n",
              "      <td>77.0</td>\n",
              "      <td>0</td>\n",
              "    </tr>\n",
              "    <tr>\n",
              "      <th>1</th>\n",
              "      <td>0</td>\n",
              "      <td>46</td>\n",
              "      <td>2.0</td>\n",
              "      <td>0</td>\n",
              "      <td>0.0</td>\n",
              "      <td>0.0</td>\n",
              "      <td>0</td>\n",
              "      <td>0</td>\n",
              "      <td>0</td>\n",
              "      <td>250.0</td>\n",
              "      <td>121.0</td>\n",
              "      <td>81.0</td>\n",
              "      <td>28.73</td>\n",
              "      <td>95.0</td>\n",
              "      <td>76.0</td>\n",
              "      <td>0</td>\n",
              "    </tr>\n",
              "    <tr>\n",
              "      <th>2</th>\n",
              "      <td>1</td>\n",
              "      <td>48</td>\n",
              "      <td>1.0</td>\n",
              "      <td>1</td>\n",
              "      <td>20.0</td>\n",
              "      <td>0.0</td>\n",
              "      <td>0</td>\n",
              "      <td>0</td>\n",
              "      <td>0</td>\n",
              "      <td>245.0</td>\n",
              "      <td>127.5</td>\n",
              "      <td>80.0</td>\n",
              "      <td>25.34</td>\n",
              "      <td>75.0</td>\n",
              "      <td>70.0</td>\n",
              "      <td>0</td>\n",
              "    </tr>\n",
              "    <tr>\n",
              "      <th>3</th>\n",
              "      <td>0</td>\n",
              "      <td>61</td>\n",
              "      <td>3.0</td>\n",
              "      <td>1</td>\n",
              "      <td>30.0</td>\n",
              "      <td>0.0</td>\n",
              "      <td>0</td>\n",
              "      <td>1</td>\n",
              "      <td>0</td>\n",
              "      <td>225.0</td>\n",
              "      <td>150.0</td>\n",
              "      <td>95.0</td>\n",
              "      <td>28.58</td>\n",
              "      <td>65.0</td>\n",
              "      <td>103.0</td>\n",
              "      <td>1</td>\n",
              "    </tr>\n",
              "    <tr>\n",
              "      <th>4</th>\n",
              "      <td>0</td>\n",
              "      <td>46</td>\n",
              "      <td>3.0</td>\n",
              "      <td>1</td>\n",
              "      <td>23.0</td>\n",
              "      <td>0.0</td>\n",
              "      <td>0</td>\n",
              "      <td>0</td>\n",
              "      <td>0</td>\n",
              "      <td>285.0</td>\n",
              "      <td>130.0</td>\n",
              "      <td>84.0</td>\n",
              "      <td>23.10</td>\n",
              "      <td>85.0</td>\n",
              "      <td>85.0</td>\n",
              "      <td>0</td>\n",
              "    </tr>\n",
              "    <tr>\n",
              "      <th>...</th>\n",
              "      <td>...</td>\n",
              "      <td>...</td>\n",
              "      <td>...</td>\n",
              "      <td>...</td>\n",
              "      <td>...</td>\n",
              "      <td>...</td>\n",
              "      <td>...</td>\n",
              "      <td>...</td>\n",
              "      <td>...</td>\n",
              "      <td>...</td>\n",
              "      <td>...</td>\n",
              "      <td>...</td>\n",
              "      <td>...</td>\n",
              "      <td>...</td>\n",
              "      <td>...</td>\n",
              "      <td>...</td>\n",
              "    </tr>\n",
              "    <tr>\n",
              "      <th>4233</th>\n",
              "      <td>1</td>\n",
              "      <td>50</td>\n",
              "      <td>1.0</td>\n",
              "      <td>1</td>\n",
              "      <td>1.0</td>\n",
              "      <td>0.0</td>\n",
              "      <td>0</td>\n",
              "      <td>1</td>\n",
              "      <td>0</td>\n",
              "      <td>313.0</td>\n",
              "      <td>179.0</td>\n",
              "      <td>92.0</td>\n",
              "      <td>25.97</td>\n",
              "      <td>66.0</td>\n",
              "      <td>86.0</td>\n",
              "      <td>1</td>\n",
              "    </tr>\n",
              "    <tr>\n",
              "      <th>4234</th>\n",
              "      <td>1</td>\n",
              "      <td>51</td>\n",
              "      <td>3.0</td>\n",
              "      <td>1</td>\n",
              "      <td>43.0</td>\n",
              "      <td>0.0</td>\n",
              "      <td>0</td>\n",
              "      <td>0</td>\n",
              "      <td>0</td>\n",
              "      <td>207.0</td>\n",
              "      <td>126.5</td>\n",
              "      <td>80.0</td>\n",
              "      <td>19.71</td>\n",
              "      <td>65.0</td>\n",
              "      <td>68.0</td>\n",
              "      <td>0</td>\n",
              "    </tr>\n",
              "    <tr>\n",
              "      <th>4237</th>\n",
              "      <td>0</td>\n",
              "      <td>52</td>\n",
              "      <td>2.0</td>\n",
              "      <td>0</td>\n",
              "      <td>0.0</td>\n",
              "      <td>0.0</td>\n",
              "      <td>0</td>\n",
              "      <td>0</td>\n",
              "      <td>0</td>\n",
              "      <td>269.0</td>\n",
              "      <td>133.5</td>\n",
              "      <td>83.0</td>\n",
              "      <td>21.47</td>\n",
              "      <td>80.0</td>\n",
              "      <td>107.0</td>\n",
              "      <td>0</td>\n",
              "    </tr>\n",
              "    <tr>\n",
              "      <th>4238</th>\n",
              "      <td>1</td>\n",
              "      <td>40</td>\n",
              "      <td>3.0</td>\n",
              "      <td>0</td>\n",
              "      <td>0.0</td>\n",
              "      <td>0.0</td>\n",
              "      <td>0</td>\n",
              "      <td>1</td>\n",
              "      <td>0</td>\n",
              "      <td>185.0</td>\n",
              "      <td>141.0</td>\n",
              "      <td>98.0</td>\n",
              "      <td>25.60</td>\n",
              "      <td>67.0</td>\n",
              "      <td>72.0</td>\n",
              "      <td>0</td>\n",
              "    </tr>\n",
              "    <tr>\n",
              "      <th>4239</th>\n",
              "      <td>0</td>\n",
              "      <td>39</td>\n",
              "      <td>3.0</td>\n",
              "      <td>1</td>\n",
              "      <td>30.0</td>\n",
              "      <td>0.0</td>\n",
              "      <td>0</td>\n",
              "      <td>0</td>\n",
              "      <td>0</td>\n",
              "      <td>196.0</td>\n",
              "      <td>133.0</td>\n",
              "      <td>86.0</td>\n",
              "      <td>20.91</td>\n",
              "      <td>85.0</td>\n",
              "      <td>80.0</td>\n",
              "      <td>0</td>\n",
              "    </tr>\n",
              "  </tbody>\n",
              "</table>\n",
              "<p>3658 rows × 16 columns</p>\n",
              "</div>\n",
              "      <button class=\"colab-df-convert\" onclick=\"convertToInteractive('df-c3c5913a-a1be-4218-9e21-09205b9f9853')\"\n",
              "              title=\"Convert this dataframe to an interactive table.\"\n",
              "              style=\"display:none;\">\n",
              "        \n",
              "  <svg xmlns=\"http://www.w3.org/2000/svg\" height=\"24px\"viewBox=\"0 0 24 24\"\n",
              "       width=\"24px\">\n",
              "    <path d=\"M0 0h24v24H0V0z\" fill=\"none\"/>\n",
              "    <path d=\"M18.56 5.44l.94 2.06.94-2.06 2.06-.94-2.06-.94-.94-2.06-.94 2.06-2.06.94zm-11 1L8.5 8.5l.94-2.06 2.06-.94-2.06-.94L8.5 2.5l-.94 2.06-2.06.94zm10 10l.94 2.06.94-2.06 2.06-.94-2.06-.94-.94-2.06-.94 2.06-2.06.94z\"/><path d=\"M17.41 7.96l-1.37-1.37c-.4-.4-.92-.59-1.43-.59-.52 0-1.04.2-1.43.59L10.3 9.45l-7.72 7.72c-.78.78-.78 2.05 0 2.83L4 21.41c.39.39.9.59 1.41.59.51 0 1.02-.2 1.41-.59l7.78-7.78 2.81-2.81c.8-.78.8-2.07 0-2.86zM5.41 20L4 18.59l7.72-7.72 1.47 1.35L5.41 20z\"/>\n",
              "  </svg>\n",
              "      </button>\n",
              "      \n",
              "  <style>\n",
              "    .colab-df-container {\n",
              "      display:flex;\n",
              "      flex-wrap:wrap;\n",
              "      gap: 12px;\n",
              "    }\n",
              "\n",
              "    .colab-df-convert {\n",
              "      background-color: #E8F0FE;\n",
              "      border: none;\n",
              "      border-radius: 50%;\n",
              "      cursor: pointer;\n",
              "      display: none;\n",
              "      fill: #1967D2;\n",
              "      height: 32px;\n",
              "      padding: 0 0 0 0;\n",
              "      width: 32px;\n",
              "    }\n",
              "\n",
              "    .colab-df-convert:hover {\n",
              "      background-color: #E2EBFA;\n",
              "      box-shadow: 0px 1px 2px rgba(60, 64, 67, 0.3), 0px 1px 3px 1px rgba(60, 64, 67, 0.15);\n",
              "      fill: #174EA6;\n",
              "    }\n",
              "\n",
              "    [theme=dark] .colab-df-convert {\n",
              "      background-color: #3B4455;\n",
              "      fill: #D2E3FC;\n",
              "    }\n",
              "\n",
              "    [theme=dark] .colab-df-convert:hover {\n",
              "      background-color: #434B5C;\n",
              "      box-shadow: 0px 1px 3px 1px rgba(0, 0, 0, 0.15);\n",
              "      filter: drop-shadow(0px 1px 2px rgba(0, 0, 0, 0.3));\n",
              "      fill: #FFFFFF;\n",
              "    }\n",
              "  </style>\n",
              "\n",
              "      <script>\n",
              "        const buttonEl =\n",
              "          document.querySelector('#df-c3c5913a-a1be-4218-9e21-09205b9f9853 button.colab-df-convert');\n",
              "        buttonEl.style.display =\n",
              "          google.colab.kernel.accessAllowed ? 'block' : 'none';\n",
              "\n",
              "        async function convertToInteractive(key) {\n",
              "          const element = document.querySelector('#df-c3c5913a-a1be-4218-9e21-09205b9f9853');\n",
              "          const dataTable =\n",
              "            await google.colab.kernel.invokeFunction('convertToInteractive',\n",
              "                                                     [key], {});\n",
              "          if (!dataTable) return;\n",
              "\n",
              "          const docLinkHtml = 'Like what you see? Visit the ' +\n",
              "            '<a target=\"_blank\" href=https://colab.research.google.com/notebooks/data_table.ipynb>data table notebook</a>'\n",
              "            + ' to learn more about interactive tables.';\n",
              "          element.innerHTML = '';\n",
              "          dataTable['output_type'] = 'display_data';\n",
              "          await google.colab.output.renderOutput(dataTable, element);\n",
              "          const docLink = document.createElement('div');\n",
              "          docLink.innerHTML = docLinkHtml;\n",
              "          element.appendChild(docLink);\n",
              "        }\n",
              "      </script>\n",
              "    </div>\n",
              "  </div>\n",
              "  "
            ]
          },
          "metadata": {},
          "execution_count": 4
        }
      ],
      "source": [
        "df.dropna()"
      ]
    },
    {
      "cell_type": "markdown",
      "metadata": {
        "id": "stzLxTynQ9Ih"
      },
      "source": [
        "**Removing Null values**"
      ]
    },
    {
      "cell_type": "code",
      "execution_count": null,
      "metadata": {
        "colab": {
          "base_uri": "https://localhost:8080/"
        },
        "id": "bycYvJhiQSIB",
        "outputId": "a47c636d-1abb-4659-ad06-c668203e5112"
      },
      "outputs": [
        {
          "output_type": "execute_result",
          "data": {
            "text/plain": [
              "male                0\n",
              "age                 0\n",
              "education          95\n",
              "currentSmoker       0\n",
              "cigsPerDay         25\n",
              "BPMeds             51\n",
              "prevalentStroke     0\n",
              "prevalentHyp        0\n",
              "diabetes            0\n",
              "totChol             0\n",
              "sysBP               0\n",
              "diaBP               0\n",
              "BMI                 0\n",
              "heartRate           0\n",
              "glucose             0\n",
              "TenYearCHD          0\n",
              "dtype: int64"
            ]
          },
          "metadata": {},
          "execution_count": 7
        }
      ],
      "source": [
        "df.dropna(subset=['BMI', 'heartRate', 'totChol','glucose' ], inplace=True)\n",
        "df.isna().sum()"
      ]
    },
    {
      "cell_type": "markdown",
      "metadata": {
        "id": "VnznRQDOf9-7"
      },
      "source": [
        "## 1.2 Ensuring consistency in column names"
      ]
    },
    {
      "cell_type": "markdown",
      "source": [
        "Converting all column names in the lower sentence case"
      ],
      "metadata": {
        "id": "_D8vdRF5Zu9b"
      }
    },
    {
      "cell_type": "code",
      "execution_count": null,
      "metadata": {
        "colab": {
          "base_uri": "https://localhost:8080/",
          "height": 270
        },
        "id": "3GDiP0_1fbXk",
        "outputId": "1e592a4a-4e19-416d-d030-6ebe4304c23c"
      },
      "outputs": [
        {
          "output_type": "execute_result",
          "data": {
            "text/plain": [
              "   male  age  education  currentsmoker  cigsperday  bpmeds  prevalentstroke  \\\n",
              "0     1   39        4.0              0         0.0     0.0                0   \n",
              "1     0   46        2.0              0         0.0     0.0                0   \n",
              "2     1   48        1.0              1        20.0     0.0                0   \n",
              "3     0   61        3.0              1        30.0     0.0                0   \n",
              "4     0   46        3.0              1        23.0     0.0                0   \n",
              "\n",
              "   prevalenthyp  diabetes  totchol  sysbp  diabp    bmi  heartrate  glucose  \\\n",
              "0             0         0    195.0  106.0   70.0  26.97       80.0     77.0   \n",
              "1             0         0    250.0  121.0   81.0  28.73       95.0     76.0   \n",
              "2             0         0    245.0  127.5   80.0  25.34       75.0     70.0   \n",
              "3             1         0    225.0  150.0   95.0  28.58       65.0    103.0   \n",
              "4             0         0    285.0  130.0   84.0  23.10       85.0     85.0   \n",
              "\n",
              "   tenyearchd  \n",
              "0           0  \n",
              "1           0  \n",
              "2           0  \n",
              "3           1  \n",
              "4           0  "
            ],
            "text/html": [
              "\n",
              "  <div id=\"df-f9436bd0-acb2-4f45-a199-29e01bd3fcf3\">\n",
              "    <div class=\"colab-df-container\">\n",
              "      <div>\n",
              "<style scoped>\n",
              "    .dataframe tbody tr th:only-of-type {\n",
              "        vertical-align: middle;\n",
              "    }\n",
              "\n",
              "    .dataframe tbody tr th {\n",
              "        vertical-align: top;\n",
              "    }\n",
              "\n",
              "    .dataframe thead th {\n",
              "        text-align: right;\n",
              "    }\n",
              "</style>\n",
              "<table border=\"1\" class=\"dataframe\">\n",
              "  <thead>\n",
              "    <tr style=\"text-align: right;\">\n",
              "      <th></th>\n",
              "      <th>male</th>\n",
              "      <th>age</th>\n",
              "      <th>education</th>\n",
              "      <th>currentsmoker</th>\n",
              "      <th>cigsperday</th>\n",
              "      <th>bpmeds</th>\n",
              "      <th>prevalentstroke</th>\n",
              "      <th>prevalenthyp</th>\n",
              "      <th>diabetes</th>\n",
              "      <th>totchol</th>\n",
              "      <th>sysbp</th>\n",
              "      <th>diabp</th>\n",
              "      <th>bmi</th>\n",
              "      <th>heartrate</th>\n",
              "      <th>glucose</th>\n",
              "      <th>tenyearchd</th>\n",
              "    </tr>\n",
              "  </thead>\n",
              "  <tbody>\n",
              "    <tr>\n",
              "      <th>0</th>\n",
              "      <td>1</td>\n",
              "      <td>39</td>\n",
              "      <td>4.0</td>\n",
              "      <td>0</td>\n",
              "      <td>0.0</td>\n",
              "      <td>0.0</td>\n",
              "      <td>0</td>\n",
              "      <td>0</td>\n",
              "      <td>0</td>\n",
              "      <td>195.0</td>\n",
              "      <td>106.0</td>\n",
              "      <td>70.0</td>\n",
              "      <td>26.97</td>\n",
              "      <td>80.0</td>\n",
              "      <td>77.0</td>\n",
              "      <td>0</td>\n",
              "    </tr>\n",
              "    <tr>\n",
              "      <th>1</th>\n",
              "      <td>0</td>\n",
              "      <td>46</td>\n",
              "      <td>2.0</td>\n",
              "      <td>0</td>\n",
              "      <td>0.0</td>\n",
              "      <td>0.0</td>\n",
              "      <td>0</td>\n",
              "      <td>0</td>\n",
              "      <td>0</td>\n",
              "      <td>250.0</td>\n",
              "      <td>121.0</td>\n",
              "      <td>81.0</td>\n",
              "      <td>28.73</td>\n",
              "      <td>95.0</td>\n",
              "      <td>76.0</td>\n",
              "      <td>0</td>\n",
              "    </tr>\n",
              "    <tr>\n",
              "      <th>2</th>\n",
              "      <td>1</td>\n",
              "      <td>48</td>\n",
              "      <td>1.0</td>\n",
              "      <td>1</td>\n",
              "      <td>20.0</td>\n",
              "      <td>0.0</td>\n",
              "      <td>0</td>\n",
              "      <td>0</td>\n",
              "      <td>0</td>\n",
              "      <td>245.0</td>\n",
              "      <td>127.5</td>\n",
              "      <td>80.0</td>\n",
              "      <td>25.34</td>\n",
              "      <td>75.0</td>\n",
              "      <td>70.0</td>\n",
              "      <td>0</td>\n",
              "    </tr>\n",
              "    <tr>\n",
              "      <th>3</th>\n",
              "      <td>0</td>\n",
              "      <td>61</td>\n",
              "      <td>3.0</td>\n",
              "      <td>1</td>\n",
              "      <td>30.0</td>\n",
              "      <td>0.0</td>\n",
              "      <td>0</td>\n",
              "      <td>1</td>\n",
              "      <td>0</td>\n",
              "      <td>225.0</td>\n",
              "      <td>150.0</td>\n",
              "      <td>95.0</td>\n",
              "      <td>28.58</td>\n",
              "      <td>65.0</td>\n",
              "      <td>103.0</td>\n",
              "      <td>1</td>\n",
              "    </tr>\n",
              "    <tr>\n",
              "      <th>4</th>\n",
              "      <td>0</td>\n",
              "      <td>46</td>\n",
              "      <td>3.0</td>\n",
              "      <td>1</td>\n",
              "      <td>23.0</td>\n",
              "      <td>0.0</td>\n",
              "      <td>0</td>\n",
              "      <td>0</td>\n",
              "      <td>0</td>\n",
              "      <td>285.0</td>\n",
              "      <td>130.0</td>\n",
              "      <td>84.0</td>\n",
              "      <td>23.10</td>\n",
              "      <td>85.0</td>\n",
              "      <td>85.0</td>\n",
              "      <td>0</td>\n",
              "    </tr>\n",
              "  </tbody>\n",
              "</table>\n",
              "</div>\n",
              "      <button class=\"colab-df-convert\" onclick=\"convertToInteractive('df-f9436bd0-acb2-4f45-a199-29e01bd3fcf3')\"\n",
              "              title=\"Convert this dataframe to an interactive table.\"\n",
              "              style=\"display:none;\">\n",
              "        \n",
              "  <svg xmlns=\"http://www.w3.org/2000/svg\" height=\"24px\"viewBox=\"0 0 24 24\"\n",
              "       width=\"24px\">\n",
              "    <path d=\"M0 0h24v24H0V0z\" fill=\"none\"/>\n",
              "    <path d=\"M18.56 5.44l.94 2.06.94-2.06 2.06-.94-2.06-.94-.94-2.06-.94 2.06-2.06.94zm-11 1L8.5 8.5l.94-2.06 2.06-.94-2.06-.94L8.5 2.5l-.94 2.06-2.06.94zm10 10l.94 2.06.94-2.06 2.06-.94-2.06-.94-.94-2.06-.94 2.06-2.06.94z\"/><path d=\"M17.41 7.96l-1.37-1.37c-.4-.4-.92-.59-1.43-.59-.52 0-1.04.2-1.43.59L10.3 9.45l-7.72 7.72c-.78.78-.78 2.05 0 2.83L4 21.41c.39.39.9.59 1.41.59.51 0 1.02-.2 1.41-.59l7.78-7.78 2.81-2.81c.8-.78.8-2.07 0-2.86zM5.41 20L4 18.59l7.72-7.72 1.47 1.35L5.41 20z\"/>\n",
              "  </svg>\n",
              "      </button>\n",
              "      \n",
              "  <style>\n",
              "    .colab-df-container {\n",
              "      display:flex;\n",
              "      flex-wrap:wrap;\n",
              "      gap: 12px;\n",
              "    }\n",
              "\n",
              "    .colab-df-convert {\n",
              "      background-color: #E8F0FE;\n",
              "      border: none;\n",
              "      border-radius: 50%;\n",
              "      cursor: pointer;\n",
              "      display: none;\n",
              "      fill: #1967D2;\n",
              "      height: 32px;\n",
              "      padding: 0 0 0 0;\n",
              "      width: 32px;\n",
              "    }\n",
              "\n",
              "    .colab-df-convert:hover {\n",
              "      background-color: #E2EBFA;\n",
              "      box-shadow: 0px 1px 2px rgba(60, 64, 67, 0.3), 0px 1px 3px 1px rgba(60, 64, 67, 0.15);\n",
              "      fill: #174EA6;\n",
              "    }\n",
              "\n",
              "    [theme=dark] .colab-df-convert {\n",
              "      background-color: #3B4455;\n",
              "      fill: #D2E3FC;\n",
              "    }\n",
              "\n",
              "    [theme=dark] .colab-df-convert:hover {\n",
              "      background-color: #434B5C;\n",
              "      box-shadow: 0px 1px 3px 1px rgba(0, 0, 0, 0.15);\n",
              "      filter: drop-shadow(0px 1px 2px rgba(0, 0, 0, 0.3));\n",
              "      fill: #FFFFFF;\n",
              "    }\n",
              "  </style>\n",
              "\n",
              "      <script>\n",
              "        const buttonEl =\n",
              "          document.querySelector('#df-f9436bd0-acb2-4f45-a199-29e01bd3fcf3 button.colab-df-convert');\n",
              "        buttonEl.style.display =\n",
              "          google.colab.kernel.accessAllowed ? 'block' : 'none';\n",
              "\n",
              "        async function convertToInteractive(key) {\n",
              "          const element = document.querySelector('#df-f9436bd0-acb2-4f45-a199-29e01bd3fcf3');\n",
              "          const dataTable =\n",
              "            await google.colab.kernel.invokeFunction('convertToInteractive',\n",
              "                                                     [key], {});\n",
              "          if (!dataTable) return;\n",
              "\n",
              "          const docLinkHtml = 'Like what you see? Visit the ' +\n",
              "            '<a target=\"_blank\" href=https://colab.research.google.com/notebooks/data_table.ipynb>data table notebook</a>'\n",
              "            + ' to learn more about interactive tables.';\n",
              "          element.innerHTML = '';\n",
              "          dataTable['output_type'] = 'display_data';\n",
              "          await google.colab.output.renderOutput(dataTable, element);\n",
              "          const docLink = document.createElement('div');\n",
              "          docLink.innerHTML = docLinkHtml;\n",
              "          element.appendChild(docLink);\n",
              "        }\n",
              "      </script>\n",
              "    </div>\n",
              "  </div>\n",
              "  "
            ]
          },
          "metadata": {},
          "execution_count": 8
        }
      ],
      "source": [
        "df.columns= df.columns.str.lower()\n",
        "df.head()"
      ]
    },
    {
      "cell_type": "markdown",
      "metadata": {
        "id": "csyAe6ZCfy4-"
      },
      "source": [
        "#**Data modifications**\n",
        "**Converting Binary values to String format**\n",
        "\n",
        "We notice that for further visualisations, its good to have columns such as \"male\" - defined as \"male\" and \"female\" instead of 0 and 1, for easy understandability. So let's make similar changes for other variables by adding new columns, replacing 0 and 1 with categorical names (yes/no)."
      ]
    },
    {
      "cell_type": "code",
      "execution_count": null,
      "metadata": {
        "colab": {
          "base_uri": "https://localhost:8080/",
          "height": 270
        },
        "id": "_mGMFB2kcOyk",
        "outputId": "3cae635c-826a-43b1-cee1-987d9e73e0ba"
      },
      "outputs": [
        {
          "output_type": "execute_result",
          "data": {
            "text/plain": [
              "   male  age  education  currentsmoker  cigsperday  bpmeds  prevalentstroke  \\\n",
              "0     1   39        4.0              0         0.0     0.0                0   \n",
              "1     0   46        2.0              0         0.0     0.0                0   \n",
              "2     1   48        1.0              1        20.0     0.0                0   \n",
              "3     0   61        3.0              1        30.0     0.0                0   \n",
              "4     0   46        3.0              1        23.0     0.0                0   \n",
              "\n",
              "   prevalenthyp  diabetes  totchol  sysbp  diabp    bmi  heartrate  glucose  \\\n",
              "0             0         0    195.0  106.0   70.0  26.97       80.0     77.0   \n",
              "1             0         0    250.0  121.0   81.0  28.73       95.0     76.0   \n",
              "2             0         0    245.0  127.5   80.0  25.34       75.0     70.0   \n",
              "3             1         0    225.0  150.0   95.0  28.58       65.0    103.0   \n",
              "4             0         0    285.0  130.0   84.0  23.10       85.0     85.0   \n",
              "\n",
              "   tenyearchd     sex currentsmoker_value prevalentstroke_value  \\\n",
              "0           0    male                  No                    No   \n",
              "1           0  female                  No                    No   \n",
              "2           0    male                 Yes                    No   \n",
              "3           1  female                 Yes                    No   \n",
              "4           0  female                 Yes                    No   \n",
              "\n",
              "  prevalenthyp_value  \n",
              "0                 No  \n",
              "1                 No  \n",
              "2                 No  \n",
              "3                Yes  \n",
              "4                 No  "
            ],
            "text/html": [
              "\n",
              "  <div id=\"df-1b1e55ca-eca2-4379-a18a-9c29522a4e84\">\n",
              "    <div class=\"colab-df-container\">\n",
              "      <div>\n",
              "<style scoped>\n",
              "    .dataframe tbody tr th:only-of-type {\n",
              "        vertical-align: middle;\n",
              "    }\n",
              "\n",
              "    .dataframe tbody tr th {\n",
              "        vertical-align: top;\n",
              "    }\n",
              "\n",
              "    .dataframe thead th {\n",
              "        text-align: right;\n",
              "    }\n",
              "</style>\n",
              "<table border=\"1\" class=\"dataframe\">\n",
              "  <thead>\n",
              "    <tr style=\"text-align: right;\">\n",
              "      <th></th>\n",
              "      <th>male</th>\n",
              "      <th>age</th>\n",
              "      <th>education</th>\n",
              "      <th>currentsmoker</th>\n",
              "      <th>cigsperday</th>\n",
              "      <th>bpmeds</th>\n",
              "      <th>prevalentstroke</th>\n",
              "      <th>prevalenthyp</th>\n",
              "      <th>diabetes</th>\n",
              "      <th>totchol</th>\n",
              "      <th>sysbp</th>\n",
              "      <th>diabp</th>\n",
              "      <th>bmi</th>\n",
              "      <th>heartrate</th>\n",
              "      <th>glucose</th>\n",
              "      <th>tenyearchd</th>\n",
              "      <th>sex</th>\n",
              "      <th>currentsmoker_value</th>\n",
              "      <th>prevalentstroke_value</th>\n",
              "      <th>prevalenthyp_value</th>\n",
              "    </tr>\n",
              "  </thead>\n",
              "  <tbody>\n",
              "    <tr>\n",
              "      <th>0</th>\n",
              "      <td>1</td>\n",
              "      <td>39</td>\n",
              "      <td>4.0</td>\n",
              "      <td>0</td>\n",
              "      <td>0.0</td>\n",
              "      <td>0.0</td>\n",
              "      <td>0</td>\n",
              "      <td>0</td>\n",
              "      <td>0</td>\n",
              "      <td>195.0</td>\n",
              "      <td>106.0</td>\n",
              "      <td>70.0</td>\n",
              "      <td>26.97</td>\n",
              "      <td>80.0</td>\n",
              "      <td>77.0</td>\n",
              "      <td>0</td>\n",
              "      <td>male</td>\n",
              "      <td>No</td>\n",
              "      <td>No</td>\n",
              "      <td>No</td>\n",
              "    </tr>\n",
              "    <tr>\n",
              "      <th>1</th>\n",
              "      <td>0</td>\n",
              "      <td>46</td>\n",
              "      <td>2.0</td>\n",
              "      <td>0</td>\n",
              "      <td>0.0</td>\n",
              "      <td>0.0</td>\n",
              "      <td>0</td>\n",
              "      <td>0</td>\n",
              "      <td>0</td>\n",
              "      <td>250.0</td>\n",
              "      <td>121.0</td>\n",
              "      <td>81.0</td>\n",
              "      <td>28.73</td>\n",
              "      <td>95.0</td>\n",
              "      <td>76.0</td>\n",
              "      <td>0</td>\n",
              "      <td>female</td>\n",
              "      <td>No</td>\n",
              "      <td>No</td>\n",
              "      <td>No</td>\n",
              "    </tr>\n",
              "    <tr>\n",
              "      <th>2</th>\n",
              "      <td>1</td>\n",
              "      <td>48</td>\n",
              "      <td>1.0</td>\n",
              "      <td>1</td>\n",
              "      <td>20.0</td>\n",
              "      <td>0.0</td>\n",
              "      <td>0</td>\n",
              "      <td>0</td>\n",
              "      <td>0</td>\n",
              "      <td>245.0</td>\n",
              "      <td>127.5</td>\n",
              "      <td>80.0</td>\n",
              "      <td>25.34</td>\n",
              "      <td>75.0</td>\n",
              "      <td>70.0</td>\n",
              "      <td>0</td>\n",
              "      <td>male</td>\n",
              "      <td>Yes</td>\n",
              "      <td>No</td>\n",
              "      <td>No</td>\n",
              "    </tr>\n",
              "    <tr>\n",
              "      <th>3</th>\n",
              "      <td>0</td>\n",
              "      <td>61</td>\n",
              "      <td>3.0</td>\n",
              "      <td>1</td>\n",
              "      <td>30.0</td>\n",
              "      <td>0.0</td>\n",
              "      <td>0</td>\n",
              "      <td>1</td>\n",
              "      <td>0</td>\n",
              "      <td>225.0</td>\n",
              "      <td>150.0</td>\n",
              "      <td>95.0</td>\n",
              "      <td>28.58</td>\n",
              "      <td>65.0</td>\n",
              "      <td>103.0</td>\n",
              "      <td>1</td>\n",
              "      <td>female</td>\n",
              "      <td>Yes</td>\n",
              "      <td>No</td>\n",
              "      <td>Yes</td>\n",
              "    </tr>\n",
              "    <tr>\n",
              "      <th>4</th>\n",
              "      <td>0</td>\n",
              "      <td>46</td>\n",
              "      <td>3.0</td>\n",
              "      <td>1</td>\n",
              "      <td>23.0</td>\n",
              "      <td>0.0</td>\n",
              "      <td>0</td>\n",
              "      <td>0</td>\n",
              "      <td>0</td>\n",
              "      <td>285.0</td>\n",
              "      <td>130.0</td>\n",
              "      <td>84.0</td>\n",
              "      <td>23.10</td>\n",
              "      <td>85.0</td>\n",
              "      <td>85.0</td>\n",
              "      <td>0</td>\n",
              "      <td>female</td>\n",
              "      <td>Yes</td>\n",
              "      <td>No</td>\n",
              "      <td>No</td>\n",
              "    </tr>\n",
              "  </tbody>\n",
              "</table>\n",
              "</div>\n",
              "      <button class=\"colab-df-convert\" onclick=\"convertToInteractive('df-1b1e55ca-eca2-4379-a18a-9c29522a4e84')\"\n",
              "              title=\"Convert this dataframe to an interactive table.\"\n",
              "              style=\"display:none;\">\n",
              "        \n",
              "  <svg xmlns=\"http://www.w3.org/2000/svg\" height=\"24px\"viewBox=\"0 0 24 24\"\n",
              "       width=\"24px\">\n",
              "    <path d=\"M0 0h24v24H0V0z\" fill=\"none\"/>\n",
              "    <path d=\"M18.56 5.44l.94 2.06.94-2.06 2.06-.94-2.06-.94-.94-2.06-.94 2.06-2.06.94zm-11 1L8.5 8.5l.94-2.06 2.06-.94-2.06-.94L8.5 2.5l-.94 2.06-2.06.94zm10 10l.94 2.06.94-2.06 2.06-.94-2.06-.94-.94-2.06-.94 2.06-2.06.94z\"/><path d=\"M17.41 7.96l-1.37-1.37c-.4-.4-.92-.59-1.43-.59-.52 0-1.04.2-1.43.59L10.3 9.45l-7.72 7.72c-.78.78-.78 2.05 0 2.83L4 21.41c.39.39.9.59 1.41.59.51 0 1.02-.2 1.41-.59l7.78-7.78 2.81-2.81c.8-.78.8-2.07 0-2.86zM5.41 20L4 18.59l7.72-7.72 1.47 1.35L5.41 20z\"/>\n",
              "  </svg>\n",
              "      </button>\n",
              "      \n",
              "  <style>\n",
              "    .colab-df-container {\n",
              "      display:flex;\n",
              "      flex-wrap:wrap;\n",
              "      gap: 12px;\n",
              "    }\n",
              "\n",
              "    .colab-df-convert {\n",
              "      background-color: #E8F0FE;\n",
              "      border: none;\n",
              "      border-radius: 50%;\n",
              "      cursor: pointer;\n",
              "      display: none;\n",
              "      fill: #1967D2;\n",
              "      height: 32px;\n",
              "      padding: 0 0 0 0;\n",
              "      width: 32px;\n",
              "    }\n",
              "\n",
              "    .colab-df-convert:hover {\n",
              "      background-color: #E2EBFA;\n",
              "      box-shadow: 0px 1px 2px rgba(60, 64, 67, 0.3), 0px 1px 3px 1px rgba(60, 64, 67, 0.15);\n",
              "      fill: #174EA6;\n",
              "    }\n",
              "\n",
              "    [theme=dark] .colab-df-convert {\n",
              "      background-color: #3B4455;\n",
              "      fill: #D2E3FC;\n",
              "    }\n",
              "\n",
              "    [theme=dark] .colab-df-convert:hover {\n",
              "      background-color: #434B5C;\n",
              "      box-shadow: 0px 1px 3px 1px rgba(0, 0, 0, 0.15);\n",
              "      filter: drop-shadow(0px 1px 2px rgba(0, 0, 0, 0.3));\n",
              "      fill: #FFFFFF;\n",
              "    }\n",
              "  </style>\n",
              "\n",
              "      <script>\n",
              "        const buttonEl =\n",
              "          document.querySelector('#df-1b1e55ca-eca2-4379-a18a-9c29522a4e84 button.colab-df-convert');\n",
              "        buttonEl.style.display =\n",
              "          google.colab.kernel.accessAllowed ? 'block' : 'none';\n",
              "\n",
              "        async function convertToInteractive(key) {\n",
              "          const element = document.querySelector('#df-1b1e55ca-eca2-4379-a18a-9c29522a4e84');\n",
              "          const dataTable =\n",
              "            await google.colab.kernel.invokeFunction('convertToInteractive',\n",
              "                                                     [key], {});\n",
              "          if (!dataTable) return;\n",
              "\n",
              "          const docLinkHtml = 'Like what you see? Visit the ' +\n",
              "            '<a target=\"_blank\" href=https://colab.research.google.com/notebooks/data_table.ipynb>data table notebook</a>'\n",
              "            + ' to learn more about interactive tables.';\n",
              "          element.innerHTML = '';\n",
              "          dataTable['output_type'] = 'display_data';\n",
              "          await google.colab.output.renderOutput(dataTable, element);\n",
              "          const docLink = document.createElement('div');\n",
              "          docLink.innerHTML = docLinkHtml;\n",
              "          element.appendChild(docLink);\n",
              "        }\n",
              "      </script>\n",
              "    </div>\n",
              "  </div>\n",
              "  "
            ]
          },
          "metadata": {},
          "execution_count": 9
        }
      ],
      "source": [
        "import numpy as np\n",
        "df['sex'] = df['male']\n",
        "df[\"sex\"] = np.where(df[\"sex\"] == 0, \"female\",  \"male\")\n",
        "\n",
        "df['currentsmoker_value'] = df['currentsmoker']\n",
        "df[\"currentsmoker_value\"] = np.where(df[\"currentsmoker_value\"] == 0, \"No\",  \"Yes\")\n",
        "\n",
        "df['prevalentstroke_value'] = df['prevalentstroke']\n",
        "df[\"prevalentstroke_value\"] = np.where(df[\"prevalentstroke_value\"] == 0, \"No\",  \"Yes\")\n",
        "\n",
        "df['prevalenthyp_value'] = df['prevalenthyp']\n",
        "df[\"prevalenthyp_value\"] = np.where(df[\"prevalenthyp_value\"] == 0, \"No\",  \"Yes\")\n",
        "\n",
        "df.head()"
      ]
    },
    {
      "cell_type": "markdown",
      "source": [
        "For better grouping, clubbing the ages of the patients into groups of 0-18, 18-28, 28-38 and so on"
      ],
      "metadata": {
        "id": "u5xBqS8nM0hE"
      }
    },
    {
      "cell_type": "code",
      "source": [
        "ranges = [0,18,28,38,48,58,68,78,88]\n",
        "group_names = ['0-18', '18-28', '28-38', '38-48', '48-58', '58-68', '78-88', '88-98']\n",
        "df['agerange'] = pd.cut(df['age'], bins = ranges, labels = group_names)"
      ],
      "metadata": {
        "id": "DpRpm3LYoTz5"
      },
      "execution_count": null,
      "outputs": []
    },
    {
      "cell_type": "markdown",
      "metadata": {
        "id": "PfDObwarD1qo"
      },
      "source": [
        "#**2. Data Aggregation**"
      ]
    },
    {
      "cell_type": "markdown",
      "metadata": {
        "id": "4_Mt3dlWTw_e"
      },
      "source": [
        "## 2.1 Summary statistics"
      ]
    },
    {
      "cell_type": "code",
      "execution_count": null,
      "metadata": {
        "colab": {
          "base_uri": "https://localhost:8080/",
          "height": 364
        },
        "id": "vxW3_5PWD5th",
        "outputId": "e93777a2-e1ab-42f8-8a58-b379c791170f"
      },
      "outputs": [
        {
          "output_type": "execute_result",
          "data": {
            "text/plain": [
              "              male          age    education  currentsmoker   cigsperday  \\\n",
              "count  3827.000000  3827.000000  3732.000000    3827.000000  3802.000000   \n",
              "mean      0.443428    49.619545     1.978296       0.490724     8.997633   \n",
              "std       0.496854     8.574815     1.022560       0.499979    11.931059   \n",
              "min       0.000000    32.000000     1.000000       0.000000     0.000000   \n",
              "25%       0.000000    42.000000     1.000000       0.000000     0.000000   \n",
              "50%       0.000000    49.000000     2.000000       0.000000     0.000000   \n",
              "75%       1.000000    56.000000     3.000000       1.000000    20.000000   \n",
              "max       1.000000    70.000000     4.000000       1.000000    70.000000   \n",
              "\n",
              "            bpmeds  prevalentstroke  prevalenthyp     diabetes      totchol  \\\n",
              "count  3776.000000      3827.000000   3827.000000  3827.000000  3827.000000   \n",
              "mean      0.030191         0.005749      0.313039     0.027175   237.027437   \n",
              "std       0.171134         0.075611      0.463791     0.162615    44.768324   \n",
              "min       0.000000         0.000000      0.000000     0.000000   113.000000   \n",
              "25%       0.000000         0.000000      0.000000     0.000000   206.000000   \n",
              "50%       0.000000         0.000000      0.000000     0.000000   234.000000   \n",
              "75%       0.000000         0.000000      1.000000     0.000000   264.000000   \n",
              "max       1.000000         1.000000      1.000000     1.000000   696.000000   \n",
              "\n",
              "             sysbp        diabp          bmi    heartrate      glucose  \\\n",
              "count  3827.000000  3827.000000  3827.000000  3827.000000  3827.000000   \n",
              "mean    132.446825    82.958976    25.807201    75.731382    81.909851   \n",
              "std      22.074471    11.965641     4.066855    11.937477    23.753878   \n",
              "min      83.500000    48.000000    15.540000    44.000000    40.000000   \n",
              "25%     117.000000    75.000000    23.080000    68.000000    71.000000   \n",
              "50%     128.000000    82.000000    25.400000    75.000000    78.000000   \n",
              "75%     144.000000    90.000000    28.050000    82.000000    87.000000   \n",
              "max     295.000000   142.500000    56.800000   143.000000   394.000000   \n",
              "\n",
              "        tenyearchd  \n",
              "count  3827.000000  \n",
              "mean      0.152861  \n",
              "std       0.359901  \n",
              "min       0.000000  \n",
              "25%       0.000000  \n",
              "50%       0.000000  \n",
              "75%       0.000000  \n",
              "max       1.000000  "
            ],
            "text/html": [
              "\n",
              "  <div id=\"df-08bd25c6-8dda-46e2-9e5d-aa9f6938cc07\">\n",
              "    <div class=\"colab-df-container\">\n",
              "      <div>\n",
              "<style scoped>\n",
              "    .dataframe tbody tr th:only-of-type {\n",
              "        vertical-align: middle;\n",
              "    }\n",
              "\n",
              "    .dataframe tbody tr th {\n",
              "        vertical-align: top;\n",
              "    }\n",
              "\n",
              "    .dataframe thead th {\n",
              "        text-align: right;\n",
              "    }\n",
              "</style>\n",
              "<table border=\"1\" class=\"dataframe\">\n",
              "  <thead>\n",
              "    <tr style=\"text-align: right;\">\n",
              "      <th></th>\n",
              "      <th>male</th>\n",
              "      <th>age</th>\n",
              "      <th>education</th>\n",
              "      <th>currentsmoker</th>\n",
              "      <th>cigsperday</th>\n",
              "      <th>bpmeds</th>\n",
              "      <th>prevalentstroke</th>\n",
              "      <th>prevalenthyp</th>\n",
              "      <th>diabetes</th>\n",
              "      <th>totchol</th>\n",
              "      <th>sysbp</th>\n",
              "      <th>diabp</th>\n",
              "      <th>bmi</th>\n",
              "      <th>heartrate</th>\n",
              "      <th>glucose</th>\n",
              "      <th>tenyearchd</th>\n",
              "    </tr>\n",
              "  </thead>\n",
              "  <tbody>\n",
              "    <tr>\n",
              "      <th>count</th>\n",
              "      <td>3827.000000</td>\n",
              "      <td>3827.000000</td>\n",
              "      <td>3732.000000</td>\n",
              "      <td>3827.000000</td>\n",
              "      <td>3802.000000</td>\n",
              "      <td>3776.000000</td>\n",
              "      <td>3827.000000</td>\n",
              "      <td>3827.000000</td>\n",
              "      <td>3827.000000</td>\n",
              "      <td>3827.000000</td>\n",
              "      <td>3827.000000</td>\n",
              "      <td>3827.000000</td>\n",
              "      <td>3827.000000</td>\n",
              "      <td>3827.000000</td>\n",
              "      <td>3827.000000</td>\n",
              "      <td>3827.000000</td>\n",
              "    </tr>\n",
              "    <tr>\n",
              "      <th>mean</th>\n",
              "      <td>0.443428</td>\n",
              "      <td>49.619545</td>\n",
              "      <td>1.978296</td>\n",
              "      <td>0.490724</td>\n",
              "      <td>8.997633</td>\n",
              "      <td>0.030191</td>\n",
              "      <td>0.005749</td>\n",
              "      <td>0.313039</td>\n",
              "      <td>0.027175</td>\n",
              "      <td>237.027437</td>\n",
              "      <td>132.446825</td>\n",
              "      <td>82.958976</td>\n",
              "      <td>25.807201</td>\n",
              "      <td>75.731382</td>\n",
              "      <td>81.909851</td>\n",
              "      <td>0.152861</td>\n",
              "    </tr>\n",
              "    <tr>\n",
              "      <th>std</th>\n",
              "      <td>0.496854</td>\n",
              "      <td>8.574815</td>\n",
              "      <td>1.022560</td>\n",
              "      <td>0.499979</td>\n",
              "      <td>11.931059</td>\n",
              "      <td>0.171134</td>\n",
              "      <td>0.075611</td>\n",
              "      <td>0.463791</td>\n",
              "      <td>0.162615</td>\n",
              "      <td>44.768324</td>\n",
              "      <td>22.074471</td>\n",
              "      <td>11.965641</td>\n",
              "      <td>4.066855</td>\n",
              "      <td>11.937477</td>\n",
              "      <td>23.753878</td>\n",
              "      <td>0.359901</td>\n",
              "    </tr>\n",
              "    <tr>\n",
              "      <th>min</th>\n",
              "      <td>0.000000</td>\n",
              "      <td>32.000000</td>\n",
              "      <td>1.000000</td>\n",
              "      <td>0.000000</td>\n",
              "      <td>0.000000</td>\n",
              "      <td>0.000000</td>\n",
              "      <td>0.000000</td>\n",
              "      <td>0.000000</td>\n",
              "      <td>0.000000</td>\n",
              "      <td>113.000000</td>\n",
              "      <td>83.500000</td>\n",
              "      <td>48.000000</td>\n",
              "      <td>15.540000</td>\n",
              "      <td>44.000000</td>\n",
              "      <td>40.000000</td>\n",
              "      <td>0.000000</td>\n",
              "    </tr>\n",
              "    <tr>\n",
              "      <th>25%</th>\n",
              "      <td>0.000000</td>\n",
              "      <td>42.000000</td>\n",
              "      <td>1.000000</td>\n",
              "      <td>0.000000</td>\n",
              "      <td>0.000000</td>\n",
              "      <td>0.000000</td>\n",
              "      <td>0.000000</td>\n",
              "      <td>0.000000</td>\n",
              "      <td>0.000000</td>\n",
              "      <td>206.000000</td>\n",
              "      <td>117.000000</td>\n",
              "      <td>75.000000</td>\n",
              "      <td>23.080000</td>\n",
              "      <td>68.000000</td>\n",
              "      <td>71.000000</td>\n",
              "      <td>0.000000</td>\n",
              "    </tr>\n",
              "    <tr>\n",
              "      <th>50%</th>\n",
              "      <td>0.000000</td>\n",
              "      <td>49.000000</td>\n",
              "      <td>2.000000</td>\n",
              "      <td>0.000000</td>\n",
              "      <td>0.000000</td>\n",
              "      <td>0.000000</td>\n",
              "      <td>0.000000</td>\n",
              "      <td>0.000000</td>\n",
              "      <td>0.000000</td>\n",
              "      <td>234.000000</td>\n",
              "      <td>128.000000</td>\n",
              "      <td>82.000000</td>\n",
              "      <td>25.400000</td>\n",
              "      <td>75.000000</td>\n",
              "      <td>78.000000</td>\n",
              "      <td>0.000000</td>\n",
              "    </tr>\n",
              "    <tr>\n",
              "      <th>75%</th>\n",
              "      <td>1.000000</td>\n",
              "      <td>56.000000</td>\n",
              "      <td>3.000000</td>\n",
              "      <td>1.000000</td>\n",
              "      <td>20.000000</td>\n",
              "      <td>0.000000</td>\n",
              "      <td>0.000000</td>\n",
              "      <td>1.000000</td>\n",
              "      <td>0.000000</td>\n",
              "      <td>264.000000</td>\n",
              "      <td>144.000000</td>\n",
              "      <td>90.000000</td>\n",
              "      <td>28.050000</td>\n",
              "      <td>82.000000</td>\n",
              "      <td>87.000000</td>\n",
              "      <td>0.000000</td>\n",
              "    </tr>\n",
              "    <tr>\n",
              "      <th>max</th>\n",
              "      <td>1.000000</td>\n",
              "      <td>70.000000</td>\n",
              "      <td>4.000000</td>\n",
              "      <td>1.000000</td>\n",
              "      <td>70.000000</td>\n",
              "      <td>1.000000</td>\n",
              "      <td>1.000000</td>\n",
              "      <td>1.000000</td>\n",
              "      <td>1.000000</td>\n",
              "      <td>696.000000</td>\n",
              "      <td>295.000000</td>\n",
              "      <td>142.500000</td>\n",
              "      <td>56.800000</td>\n",
              "      <td>143.000000</td>\n",
              "      <td>394.000000</td>\n",
              "      <td>1.000000</td>\n",
              "    </tr>\n",
              "  </tbody>\n",
              "</table>\n",
              "</div>\n",
              "      <button class=\"colab-df-convert\" onclick=\"convertToInteractive('df-08bd25c6-8dda-46e2-9e5d-aa9f6938cc07')\"\n",
              "              title=\"Convert this dataframe to an interactive table.\"\n",
              "              style=\"display:none;\">\n",
              "        \n",
              "  <svg xmlns=\"http://www.w3.org/2000/svg\" height=\"24px\"viewBox=\"0 0 24 24\"\n",
              "       width=\"24px\">\n",
              "    <path d=\"M0 0h24v24H0V0z\" fill=\"none\"/>\n",
              "    <path d=\"M18.56 5.44l.94 2.06.94-2.06 2.06-.94-2.06-.94-.94-2.06-.94 2.06-2.06.94zm-11 1L8.5 8.5l.94-2.06 2.06-.94-2.06-.94L8.5 2.5l-.94 2.06-2.06.94zm10 10l.94 2.06.94-2.06 2.06-.94-2.06-.94-.94-2.06-.94 2.06-2.06.94z\"/><path d=\"M17.41 7.96l-1.37-1.37c-.4-.4-.92-.59-1.43-.59-.52 0-1.04.2-1.43.59L10.3 9.45l-7.72 7.72c-.78.78-.78 2.05 0 2.83L4 21.41c.39.39.9.59 1.41.59.51 0 1.02-.2 1.41-.59l7.78-7.78 2.81-2.81c.8-.78.8-2.07 0-2.86zM5.41 20L4 18.59l7.72-7.72 1.47 1.35L5.41 20z\"/>\n",
              "  </svg>\n",
              "      </button>\n",
              "      \n",
              "  <style>\n",
              "    .colab-df-container {\n",
              "      display:flex;\n",
              "      flex-wrap:wrap;\n",
              "      gap: 12px;\n",
              "    }\n",
              "\n",
              "    .colab-df-convert {\n",
              "      background-color: #E8F0FE;\n",
              "      border: none;\n",
              "      border-radius: 50%;\n",
              "      cursor: pointer;\n",
              "      display: none;\n",
              "      fill: #1967D2;\n",
              "      height: 32px;\n",
              "      padding: 0 0 0 0;\n",
              "      width: 32px;\n",
              "    }\n",
              "\n",
              "    .colab-df-convert:hover {\n",
              "      background-color: #E2EBFA;\n",
              "      box-shadow: 0px 1px 2px rgba(60, 64, 67, 0.3), 0px 1px 3px 1px rgba(60, 64, 67, 0.15);\n",
              "      fill: #174EA6;\n",
              "    }\n",
              "\n",
              "    [theme=dark] .colab-df-convert {\n",
              "      background-color: #3B4455;\n",
              "      fill: #D2E3FC;\n",
              "    }\n",
              "\n",
              "    [theme=dark] .colab-df-convert:hover {\n",
              "      background-color: #434B5C;\n",
              "      box-shadow: 0px 1px 3px 1px rgba(0, 0, 0, 0.15);\n",
              "      filter: drop-shadow(0px 1px 2px rgba(0, 0, 0, 0.3));\n",
              "      fill: #FFFFFF;\n",
              "    }\n",
              "  </style>\n",
              "\n",
              "      <script>\n",
              "        const buttonEl =\n",
              "          document.querySelector('#df-08bd25c6-8dda-46e2-9e5d-aa9f6938cc07 button.colab-df-convert');\n",
              "        buttonEl.style.display =\n",
              "          google.colab.kernel.accessAllowed ? 'block' : 'none';\n",
              "\n",
              "        async function convertToInteractive(key) {\n",
              "          const element = document.querySelector('#df-08bd25c6-8dda-46e2-9e5d-aa9f6938cc07');\n",
              "          const dataTable =\n",
              "            await google.colab.kernel.invokeFunction('convertToInteractive',\n",
              "                                                     [key], {});\n",
              "          if (!dataTable) return;\n",
              "\n",
              "          const docLinkHtml = 'Like what you see? Visit the ' +\n",
              "            '<a target=\"_blank\" href=https://colab.research.google.com/notebooks/data_table.ipynb>data table notebook</a>'\n",
              "            + ' to learn more about interactive tables.';\n",
              "          element.innerHTML = '';\n",
              "          dataTable['output_type'] = 'display_data';\n",
              "          await google.colab.output.renderOutput(dataTable, element);\n",
              "          const docLink = document.createElement('div');\n",
              "          docLink.innerHTML = docLinkHtml;\n",
              "          element.appendChild(docLink);\n",
              "        }\n",
              "      </script>\n",
              "    </div>\n",
              "  </div>\n",
              "  "
            ]
          },
          "metadata": {},
          "execution_count": 11
        }
      ],
      "source": [
        "df.describe()"
      ]
    },
    {
      "cell_type": "markdown",
      "metadata": {
        "id": "7DXJk_5eG7JY"
      },
      "source": [
        "**Interesting insights:**\n",
        "\n",
        "We notice that the age group observed in the dataset are between 32 and 70 years - so most of the recorded population are adults to senior citizens. \n",
        "\n",
        "We also notice the biggest standard deviation in \"totchol\" column (44.7) followed by \"glucose\" column (23.7).\n",
        "\n",
        "75% of the records are under the age of 56."
      ]
    },
    {
      "cell_type": "markdown",
      "metadata": {
        "id": "XCp22zGwS9YQ"
      },
      "source": [
        "Corrrelation matrix"
      ]
    },
    {
      "cell_type": "code",
      "execution_count": null,
      "metadata": {
        "colab": {
          "base_uri": "https://localhost:8080/",
          "height": 566
        },
        "id": "o0GyWj-OSbZr",
        "outputId": "b577d5ed-39a7-449a-ca85-d8a3b905ac32"
      },
      "outputs": [
        {
          "output_type": "display_data",
          "data": {
            "text/plain": [
              "<Figure size 1008x576 with 2 Axes>"
            ],
            "image/png": "[encoded data removed]"
          },
          "metadata": {
            "needs_background": "light"
          }
        }
      ],
      "source": [
        "plt.figure(figsize=(14,8))\n",
        "sns.set_theme(style=\"white\")\n",
        "cormat = df.corr()\n",
        "sns.heatmap(cormat, annot=True, cmap=\"Blues\", fmt='.1g');"
      ]
    },
    {
      "cell_type": "markdown",
      "metadata": {
        "id": "qwidzrnDTMiA"
      },
      "source": [
        "**Insights:**\n",
        "\n",
        "We notice that \"age\" and \"sysbp\" are slightly corelated (0.4 score) and theres a strong corelation between \"preventhyp\" and \"sysbp\" with a correlation score of 0.7. \n",
        "\n",
        "In addition, \"diabetes\" and \"glucose\" also very high relation score of 0.6"
      ]
    },
    {
      "cell_type": "markdown",
      "metadata": {
        "id": "LfG4sjYhGlTm"
      },
      "source": [
        "## 2.3 Mean values "
      ]
    },
    {
      "cell_type": "code",
      "execution_count": null,
      "metadata": {
        "colab": {
          "base_uri": "https://localhost:8080/"
        },
        "id": "My19G3iRv1vt",
        "outputId": "8e55d182-6ddb-4d7e-8ec1-273aecc4ffa2"
      },
      "outputs": [
        {
          "output_type": "stream",
          "name": "stderr",
          "text": [
            "<ipython-input-13-c61f0c8f89b5>:1: FutureWarning: Dropping of nuisance columns in DataFrame reductions (with 'numeric_only=None') is deprecated; in a future version this will raise TypeError.  Select only valid columns before calling the reduction.\n",
            "  df.mean()\n"
          ]
        },
        {
          "output_type": "execute_result",
          "data": {
            "text/plain": [
              "male                 0.443428\n",
              "age                 49.619545\n",
              "education            1.978296\n",
              "currentsmoker        0.490724\n",
              "cigsperday           8.997633\n",
              "bpmeds               0.030191\n",
              "prevalentstroke      0.005749\n",
              "prevalenthyp         0.313039\n",
              "diabetes             0.027175\n",
              "totchol            237.027437\n",
              "sysbp              132.446825\n",
              "diabp               82.958976\n",
              "bmi                 25.807201\n",
              "heartrate           75.731382\n",
              "glucose             81.909851\n",
              "tenyearchd           0.152861\n",
              "dtype: float64"
            ]
          },
          "metadata": {},
          "execution_count": 13
        }
      ],
      "source": [
        "df.mean()"
      ]
    },
    {
      "cell_type": "code",
      "execution_count": null,
      "metadata": {
        "colab": {
          "base_uri": "https://localhost:8080/",
          "height": 391
        },
        "id": "Xb2OrHTZKkad",
        "outputId": "6ff64c98-6bb5-453c-d4a7-9239330c26e3"
      },
      "outputs": [
        {
          "output_type": "display_data",
          "data": {
            "text/plain": [
              "<Figure size 360x360 with 2 Axes>"
            ],
            "image/png": "[encoded data removed]"
          },
          "metadata": {}
        }
      ],
      "source": [
        "stroke = df[df['prevalentstroke'] == 1].describe().T\n",
        "no_stroke = df[df['prevalentstroke'] == 0].describe().T\n",
        "\n",
        "colors = ['#ADD8E6','#006994']\n",
        "\n",
        "fig,ax = plt.subplots(nrows = 1,ncols = 2,figsize = (5,5))\n",
        "plt.subplot(1,2,1)\n",
        "sns.heatmap(stroke[['mean']],annot = True,cmap = colors,linewidths = 0.3,linecolor = 'black',cbar = False,fmt = '.2f')\n",
        "plt.title('Stroke Suffered');\n",
        "\n",
        "plt.subplot(1,2,2)\n",
        "sns.heatmap(no_stroke[['mean']],annot = True,cmap = colors,linewidths = 0.3,linecolor = 'black',cbar = False,fmt = '.2f')\n",
        "plt.title('No Stroke Suffered');\n",
        "fig.tight_layout(pad = 0)"
      ]
    },
    {
      "cell_type": "markdown",
      "metadata": {
        "id": "7B7G23d0VneK"
      },
      "source": [
        "**Insight**\n",
        "\n",
        "While comparing the mean figures between those who suffered stroke vs those who havent, we see a key indicator - \"cigsperday\", which highlights how patients who smoked twice as much as other patients, did not infact experience stroke."
      ]
    },
    {
      "cell_type": "markdown",
      "metadata": {
        "id": "tcU3CduPzuyw"
      },
      "source": [
        "## 2.4 Count"
      ]
    },
    {
      "cell_type": "code",
      "execution_count": null,
      "metadata": {
        "colab": {
          "base_uri": "https://localhost:8080/"
        },
        "id": "ZMduMocBxO_s",
        "outputId": "681a7093-ddb7-4837-83a8-ddb8329d454d"
      },
      "outputs": [
        {
          "output_type": "execute_result",
          "data": {
            "text/plain": [
              "male                     3827\n",
              "age                      3827\n",
              "education                3732\n",
              "currentsmoker            3827\n",
              "cigsperday               3802\n",
              "bpmeds                   3776\n",
              "prevalentstroke          3827\n",
              "prevalenthyp             3827\n",
              "diabetes                 3827\n",
              "totchol                  3827\n",
              "sysbp                    3827\n",
              "diabp                    3827\n",
              "bmi                      3827\n",
              "heartrate                3827\n",
              "glucose                  3827\n",
              "tenyearchd               3827\n",
              "sex                      3827\n",
              "currentsmoker_value      3827\n",
              "prevalentstroke_value    3827\n",
              "prevalenthyp_value       3827\n",
              "agerange                 3827\n",
              "dtype: int64"
            ]
          },
          "metadata": {},
          "execution_count": 15
        }
      ],
      "source": [
        "df.count()"
      ]
    },
    {
      "cell_type": "code",
      "execution_count": null,
      "metadata": {
        "colab": {
          "base_uri": "https://localhost:8080/"
        },
        "id": "CfHS_-cVyJBL",
        "outputId": "1bd0cd0d-71ec-42a4-c73c-150115b35837"
      },
      "outputs": [
        {
          "output_type": "execute_result",
          "data": {
            "text/plain": [
              "3827"
            ]
          },
          "metadata": {},
          "execution_count": 16
        }
      ],
      "source": [
        "df['prevalentstroke'].count()"
      ]
    },
    {
      "cell_type": "markdown",
      "metadata": {
        "id": "s-ws7j9A0mjy"
      },
      "source": [
        "**Classified count for categories**"
      ]
    },
    {
      "cell_type": "code",
      "execution_count": null,
      "metadata": {
        "colab": {
          "base_uri": "https://localhost:8080/"
        },
        "id": "GxTu8oK0y-9S",
        "outputId": "91915b64-dcdd-4ea1-c621-f8545fc21ee4"
      },
      "outputs": [
        {
          "output_type": "execute_result",
          "data": {
            "text/plain": [
              "sex   \n",
              "female    2130\n",
              "male      1697\n",
              "dtype: int64"
            ]
          },
          "metadata": {},
          "execution_count": 17
        }
      ],
      "source": [
        "df[['sex']].value_counts()"
      ]
    },
    {
      "cell_type": "markdown",
      "source": [
        "The record holds more female records than males."
      ],
      "metadata": {
        "id": "uiwgLwV6O_Zq"
      }
    },
    {
      "cell_type": "code",
      "execution_count": null,
      "metadata": {
        "colab": {
          "base_uri": "https://localhost:8080/"
        },
        "id": "YPRXMzT_zNke",
        "outputId": "fc77deb7-9bdd-4f34-bddf-19e203feaa25"
      },
      "outputs": [
        {
          "output_type": "execute_result",
          "data": {
            "text/plain": [
              "currentsmoker_value\n",
              "No                     1949\n",
              "Yes                    1878\n",
              "dtype: int64"
            ]
          },
          "metadata": {},
          "execution_count": 18
        }
      ],
      "source": [
        "df[['currentsmoker_value']].value_counts()"
      ]
    },
    {
      "cell_type": "markdown",
      "source": [
        "The records indicate almost an equal distribution of the number of people who smoke and dont smoke"
      ],
      "metadata": {
        "id": "nRFCjrf-PWdO"
      }
    },
    {
      "cell_type": "code",
      "execution_count": null,
      "metadata": {
        "colab": {
          "base_uri": "https://localhost:8080/"
        },
        "id": "5hWIpJZ3zO4A",
        "outputId": "e763ebf2-a37f-40fa-a712-4f301a14db71"
      },
      "outputs": [
        {
          "output_type": "execute_result",
          "data": {
            "text/plain": [
              "prevalentstroke_value\n",
              "No                       3805\n",
              "Yes                        22\n",
              "dtype: int64"
            ]
          },
          "metadata": {},
          "execution_count": 19
        }
      ],
      "source": [
        "df[['prevalentstroke_value']].value_counts()"
      ]
    },
    {
      "cell_type": "markdown",
      "source": [
        "We see that the data is very skewed with more than 90% of the data points falling in the \"No\" segment of the \"prevalentstroke_value\" column."
      ],
      "metadata": {
        "id": "boiZpvUAPJTr"
      }
    },
    {
      "cell_type": "code",
      "execution_count": null,
      "metadata": {
        "colab": {
          "base_uri": "https://localhost:8080/"
        },
        "id": "OorhshN9JA9a",
        "outputId": "8fa49b0b-5763-4802-ded2-eaaec6d710ee"
      },
      "outputs": [
        {
          "output_type": "execute_result",
          "data": {
            "text/plain": [
              "sex\n",
              "female    2130\n",
              "male      1697\n",
              "Name: currentsmoker, dtype: int64"
            ]
          },
          "metadata": {},
          "execution_count": 20
        }
      ],
      "source": [
        "df.groupby(\"sex\")[\"currentsmoker\"].count()"
      ]
    },
    {
      "cell_type": "markdown",
      "source": [
        "Females tend to smoke more than males"
      ],
      "metadata": {
        "id": "Ok_We6znPsV0"
      }
    },
    {
      "cell_type": "code",
      "execution_count": null,
      "metadata": {
        "colab": {
          "base_uri": "https://localhost:8080/"
        },
        "id": "pgHfgRo-zQRC",
        "outputId": "feb93fbd-c837-4d45-880f-c4de02de3921"
      },
      "outputs": [
        {
          "output_type": "execute_result",
          "data": {
            "text/plain": [
              "No     2629\n",
              "Yes    1198\n",
              "Name: prevalenthyp_value, dtype: int64"
            ]
          },
          "metadata": {},
          "execution_count": 21
        }
      ],
      "source": [
        "df['prevalenthyp_value'].value_counts()"
      ]
    },
    {
      "cell_type": "markdown",
      "source": [
        "More people experience hyper tension"
      ],
      "metadata": {
        "id": "Emj9U9lYP2Jy"
      }
    },
    {
      "cell_type": "markdown",
      "metadata": {
        "id": "l97tkhvS0C1N"
      },
      "source": [
        "##2.5 Min, Max, Median"
      ]
    },
    {
      "cell_type": "code",
      "execution_count": null,
      "metadata": {
        "colab": {
          "base_uri": "https://localhost:8080/"
        },
        "id": "hQ5o9jtFzj3D",
        "outputId": "270ab640-7d92-4e5c-bd5b-ef137040e892"
      },
      "outputs": [
        {
          "output_type": "execute_result",
          "data": {
            "text/plain": [
              "70"
            ]
          },
          "metadata": {},
          "execution_count": 22
        }
      ],
      "source": [
        "df['age'].max()"
      ]
    },
    {
      "cell_type": "markdown",
      "source": [
        "The maximum age of the dataset is 70"
      ],
      "metadata": {
        "id": "quXrx0wwQCIk"
      }
    },
    {
      "cell_type": "code",
      "execution_count": null,
      "metadata": {
        "colab": {
          "base_uri": "https://localhost:8080/"
        },
        "id": "vKSGu_LpzhIY",
        "outputId": "dc295792-198e-4cbc-ac0e-901a44b09530"
      },
      "outputs": [
        {
          "output_type": "execute_result",
          "data": {
            "text/plain": [
              "32"
            ]
          },
          "metadata": {},
          "execution_count": 23
        }
      ],
      "source": [
        "df['age'].min()"
      ]
    },
    {
      "cell_type": "markdown",
      "source": [
        "The minimum age of the dataset is 32"
      ],
      "metadata": {
        "id": "IrBNE6-jQHqP"
      }
    },
    {
      "cell_type": "code",
      "execution_count": null,
      "metadata": {
        "colab": {
          "base_uri": "https://localhost:8080/"
        },
        "id": "og1v92zzyNed",
        "outputId": "bc7ec7d2-5ea1-4057-f18d-6710cc6e0c24"
      },
      "outputs": [
        {
          "output_type": "execute_result",
          "data": {
            "text/plain": [
              "128.0"
            ]
          },
          "metadata": {},
          "execution_count": 24
        }
      ],
      "source": [
        "df['sysbp'].median()"
      ]
    },
    {
      "cell_type": "markdown",
      "source": [
        "The median value of the systolic blood pressure in the dataset is 128"
      ],
      "metadata": {
        "id": "ABEycMWwQKa2"
      }
    },
    {
      "cell_type": "markdown",
      "metadata": {
        "id": "E85Ba6dYHqz3"
      },
      "source": [
        "#**Data Exploration**\n"
      ]
    },
    {
      "cell_type": "code",
      "execution_count": null,
      "metadata": {
        "colab": {
          "base_uri": "https://localhost:8080/"
        },
        "id": "J5faq7NVG975",
        "outputId": "4c4aba6f-470e-46bb-c806-22fa12462d43"
      },
      "outputs": [
        {
          "output_type": "execute_result",
          "data": {
            "text/plain": [
              "sex\n",
              "female    2117\n",
              "male      1685\n",
              "Name: cigsperday, dtype: int64"
            ]
          },
          "metadata": {},
          "execution_count": 26
        }
      ],
      "source": [
        "df.groupby(\"sex\")[\"cigsperday\"].count()"
      ]
    },
    {
      "cell_type": "markdown",
      "metadata": {
        "id": "JvvTRCRrYcbL"
      },
      "source": [
        "The past analysis( females smoking more than males) is also supported by this data showing females consuming higher **cigarretes per day** than males"
      ]
    },
    {
      "cell_type": "code",
      "execution_count": null,
      "metadata": {
        "colab": {
          "base_uri": "https://localhost:8080/"
        },
        "id": "zfEqjCBiGwMz",
        "outputId": "77743540-33a9-483b-b496-c80c6c212e43"
      },
      "outputs": [
        {
          "output_type": "execute_result",
          "data": {
            "text/plain": [
              "sex\n",
              "female    2130\n",
              "male      1697\n",
              "Name: prevalenthyp, dtype: int64"
            ]
          },
          "metadata": {},
          "execution_count": 27
        }
      ],
      "source": [
        "df.groupby(\"sex\")[\"prevalenthyp\"].count()"
      ]
    },
    {
      "cell_type": "markdown",
      "metadata": {
        "id": "iTWJ2zvvH97M"
      },
      "source": [
        "Here we note that the **Female population seem to have higher instances of prevalent hyper tension**, which could potentially stem from the fact that the females also consume more cigarretes than males"
      ]
    },
    {
      "cell_type": "code",
      "execution_count": null,
      "metadata": {
        "colab": {
          "base_uri": "https://localhost:8080/"
        },
        "id": "AGCcbO1aHyS-",
        "outputId": "298d98d4-9f08-42cd-bb46-9e426a4b01d4"
      },
      "outputs": [
        {
          "output_type": "execute_result",
          "data": {
            "text/plain": [
              "currentsmoker_value\n",
              "No     1949\n",
              "Yes    1878\n",
              "Name: prevalenthyp, dtype: int64"
            ]
          },
          "metadata": {},
          "execution_count": 28
        }
      ],
      "source": [
        "df.groupby(\"currentsmoker_value\")[\"prevalenthyp\"].count()"
      ]
    },
    {
      "cell_type": "markdown",
      "metadata": {
        "id": "fua-oCxPIzcu"
      },
      "source": [
        "But when it comes to heart strokes, it's interesting to note that **the current smoking status has no major influence on experiencing heart strokes**. "
      ]
    },
    {
      "cell_type": "code",
      "execution_count": null,
      "metadata": {
        "colab": {
          "base_uri": "https://localhost:8080/"
        },
        "id": "1BYF8j7S9OgY",
        "outputId": "999aaf80-0080-4392-e85a-7f683b16eca6"
      },
      "outputs": [
        {
          "output_type": "execute_result",
          "data": {
            "text/plain": [
              "agerange\n",
              "0-18        0\n",
              "18-28       0\n",
              "28-38     348\n",
              "38-48    1526\n",
              "48-58    1218\n",
              "58-68     728\n",
              "78-88       7\n",
              "88-98       0\n",
              "Name: prevalentstroke, dtype: int64"
            ]
          },
          "metadata": {},
          "execution_count": 29
        }
      ],
      "source": [
        "df.groupby(\"agerange\")[\"prevalentstroke\"].count()"
      ]
    },
    {
      "cell_type": "markdown",
      "metadata": {
        "id": "GoQEosVgZMy8"
      },
      "source": [
        "People aged 38-48 tend to experience the highest number of strokes."
      ]
    },
    {
      "cell_type": "markdown",
      "metadata": {
        "id": "iiKn_ukw22g5"
      },
      "source": [
        "#**3. Visualisations**"
      ]
    },
    {
      "cell_type": "markdown",
      "metadata": {
        "id": "LyeaAcRxMe0s"
      },
      "source": [
        "##3.1 Sex Based Classification On Glucose value"
      ]
    },
    {
      "cell_type": "markdown",
      "source": [
        "We can start with checking how the glucose value varies amongst men and women across different age groups"
      ],
      "metadata": {
        "id": "92MInPRmWFqe"
      }
    },
    {
      "cell_type": "code",
      "execution_count": null,
      "metadata": {
        "colab": {
          "base_uri": "https://localhost:8080/",
          "height": 387
        },
        "id": "1sCZjdWs8BpY",
        "outputId": "5051e746-8f9b-4fd9-d039-b84035a6d118"
      },
      "outputs": [
        {
          "output_type": "display_data",
          "data": {
            "text/plain": [
              "<Figure size 720x360 with 2 Axes>"
            ],
            "image/png": "[encoded data removed]"
          },
          "metadata": {}
        }
      ],
      "source": [
        "g=sns.catplot(y='glucose', x= 'agerange' ,data= df,kind='point',col='sex',ci=None)\n",
        "g.set_xticklabels(rotation=90);"
      ]
    },
    {
      "cell_type": "markdown",
      "metadata": {
        "id": "sjeO4kmnVXRl"
      },
      "source": [
        "**Observation - From the above graph we note the following trends:**\n",
        "\n",
        "**1. Overall, the glucose level of males witnesses an increasing trend from age 28-68 (ranging around 78 to 85 in value). But soon after the population crosses the 58-68 age bracket, the glucose levels drastically falls down to 70 in the age group 78-88**\n",
        "\n",
        "**2. On the other hand, females also see a steady increase in their glucose levels  across all age groups from 28 to 88, ranging around a glucose value from 77 to 88**\n"
      ]
    },
    {
      "cell_type": "markdown",
      "metadata": {
        "id": "PyEFthVn4OND"
      },
      "source": [
        "##3.2 Prevalent Hyper Tension Across Age Groups\n"
      ]
    },
    {
      "cell_type": "markdown",
      "source": [
        "Since we noticed how females experienced more hyper tension than males, it might be interesting to see how hyper tension trend varies across age groups"
      ],
      "metadata": {
        "id": "xNQELuc2RjIZ"
      }
    },
    {
      "cell_type": "code",
      "execution_count": null,
      "metadata": {
        "colab": {
          "base_uri": "https://localhost:8080/",
          "height": 355
        },
        "id": "D5qScGAcFDU1",
        "outputId": "5103e858-549e-4e78-f03c-71a05ea7c977"
      },
      "outputs": [
        {
          "output_type": "display_data",
          "data": {
            "text/plain": [
              "<Figure size 720x360 with 1 Axes>"
            ],
            "image/png": "[encoded data removed]"
          },
          "metadata": {}
        }
      ],
      "source": [
        "plt.figure(figsize=(10,5))\n",
        "pic = sns.histplot(data = df, x = 'agerange', hue = 'prevalenthyp_value', multiple=\"dodge\", bins=7)\n",
        "plt.title(\"Hyper Tension Records Across Age Groups\")\n",
        "plt.xlabel(\"Age Range\")\n",
        "plt.ylabel(\"Count of Hypertension Records\");"
      ]
    },
    {
      "cell_type": "markdown",
      "metadata": {
        "id": "5txwU2RiM41z"
      },
      "source": [
        "**Observation - From the above graph we note the following trends:**\n",
        "\n",
        "**1. As age increases, the incidence of hyper tension increases among individuals**\n",
        "\n",
        "**2. We also see that Individuals who are aged between 28-38 have the lowest incidence of hyper tension and the highest number of recorded hyper tension cases are in the age group 48-58**\n",
        "\n",
        "**So we can assume that, aging individuals face higher stress due to their work life, and other personal issues, leading to a higher hyper tension level.**"
      ]
    },
    {
      "cell_type": "markdown",
      "metadata": {
        "id": "NYUsTZR1MFvr"
      },
      "source": [
        "##3.3 Systolic Blood Pressure Across Age Groups"
      ]
    },
    {
      "cell_type": "markdown",
      "source": [
        "Diving further into other attributes such as \"sysbp\" (one of the key health indicators) across different ages and different genders might add value to our analysis."
      ],
      "metadata": {
        "id": "JFgFSVVvSMWn"
      }
    },
    {
      "cell_type": "code",
      "execution_count": null,
      "metadata": {
        "colab": {
          "base_uri": "https://localhost:8080/",
          "height": 318
        },
        "id": "o8MfRwYIIfux",
        "outputId": "8994dd3f-6744-4b76-e709-b95f2d7e976a"
      },
      "outputs": [
        {
          "output_type": "display_data",
          "data": {
            "text/plain": [
              "<Figure size 432x288 with 1 Axes>"
            ],
            "image/png": "[encoded data removed]"
          },
          "metadata": {}
        },
        {
          "output_type": "display_data",
          "data": {
            "text/plain": [
              "<Figure size 720x432 with 0 Axes>"
            ]
          },
          "metadata": {}
        }
      ],
      "source": [
        "sns.violinplot(x =df[\"agerange\"], y = df[\"sysbp\"], hue = df[\"sex\"], split=True);\n",
        "plt.title('Sys BP Across Ages')\n",
        "plt.xlabel('Age Range')\n",
        "plt.ylabel('Systolic Blood Pressure Value')\n",
        "\n",
        "plt.figure(figsize=(10, 6))\n",
        "\n",
        "#fig.set_figwidth(15)\n",
        "#fig.set_figheight(20)\n",
        "plt.show() ;"
      ]
    },
    {
      "cell_type": "markdown",
      "metadata": {
        "id": "LPtiwmxVQO-w"
      },
      "source": [
        "**Observation - From the above graph we note the following trends:**\n",
        "\n",
        "**1. The systolic blood pressure shows a linear trend; the \"sysbp\" value increases, as the age increases for the male and the female population.**\n",
        "\n",
        "**2. We also see how the female poulation have a higher \"sysbp\" value than males, with increase in the age**"
      ]
    },
    {
      "cell_type": "markdown",
      "metadata": {
        "id": "M_Gw-7XDML1g"
      },
      "source": [
        "##3.4 Total Cholestrol Level For Genders Across Age Ranges"
      ]
    },
    {
      "cell_type": "markdown",
      "source": [
        "So far we have noticed how females tend to smoke more, have higher \"sysbp\" and \"prevalent_hyp\" values. \n",
        "\n",
        "We can have a look if this is the same case with \"totchol\" - one of the biggest causes of heart strokes"
      ],
      "metadata": {
        "id": "NboQxmPhTKuj"
      }
    },
    {
      "cell_type": "code",
      "execution_count": null,
      "metadata": {
        "colab": {
          "base_uri": "https://localhost:8080/",
          "height": 623
        },
        "id": "as0SzZLsTmDM",
        "outputId": "9a949f73-1161-4fad-81ea-e571cb68bd28"
      },
      "outputs": [
        {
          "output_type": "display_data",
          "data": {
            "text/plain": [
              "<Figure size 549.248x576 with 1 Axes>"
            ],
            "image/png": "[encoded data removed]"
          },
          "metadata": {}
        }
      ],
      "source": [
        "sns.set_palette([\"#7FB3D5\",\"#E59866\"])\n",
        "sns.set_style('darkgrid')\n",
        "sns.set_context('notebook')\n",
        "g= sns.catplot(x=\"agerange\", y=\"totchol\", data=df,kind='box', hue='sex', whis=2.0, height=8, aspect=9/11,showmeans=True) \n",
        "g.fig.suptitle('Total Cholestrol Among Genders Across Age Groups',y=1.05)\n",
        "g.set(xlabel='Age Range', ylabel='Total Cholestrol Value')\n",
        "plt.show();"
      ]
    },
    {
      "cell_type": "markdown",
      "metadata": {
        "id": "MdZxMRMKSYuO"
      },
      "source": [
        "**Observation - From the above graph we note the following trends:**\n",
        "\n",
        "**1. Overall, the mean cholestrol level of females is lower than that of males in the age group 28-38 (around 200 - females and 220 - males) and 38-48 (220- females and 240 - males).**\n",
        "\n",
        "**But in the age group 48-58, we see that females have a higher mean cholestrol level around 250.**\n",
        "\n",
        "**2. Overall we notice that as female population ages, the cholestrol level faces an increase. While for the male population we see that the cholestrol level stagnates across higher age ranges** \n",
        "\n",
        "**3. There are also few outliers in the data in the age range 48-58 having cholestrol values around 600 and 700**\n"
      ]
    },
    {
      "cell_type": "markdown",
      "metadata": {
        "id": "fVjRHGcaMVbW"
      },
      "source": [
        "##3.5 Checking Diabetes Values Across Diffrent Age Groups and Ten Year Chd"
      ]
    },
    {
      "cell_type": "markdown",
      "source": [
        "Diabetes is also a major concern amongst the population. Comparing how diabetes and Ten year CHD is related amongst age groups might be useful"
      ],
      "metadata": {
        "id": "l6dinX1nUUeA"
      }
    },
    {
      "cell_type": "code",
      "execution_count": null,
      "metadata": {
        "colab": {
          "base_uri": "https://localhost:8080/",
          "height": 397
        },
        "id": "SJYB8eQrXuwM",
        "outputId": "93f3a906-9747-4eb5-ea6f-b03c72bd2769"
      },
      "outputs": [
        {
          "output_type": "display_data",
          "data": {
            "text/plain": [
              "<Figure size 1440x576 with 1 Axes>"
            ],
            "image/png": "[encoded data removed]"
          },
          "metadata": {}
        }
      ],
      "source": [
        "plt.figure(figsize=(20, 8))\n",
        "plt.title(\"Diabetes Data with Ten Year CHD Classification\")\n",
        "sns.barplot(x = 'agerange', y ='diabetes', data= df, hue = \"tenyearchd\", palette = 'CMRmap')\n",
        "plt.xlabel('Age Range')\n",
        "plt.ylabel('Diabetes Value')\n",
        "plt.xticks(rotation = 90)\n",
        "plt.show()"
      ]
    },
    {
      "cell_type": "markdown",
      "metadata": {
        "id": "5O69xdD1UJsk"
      },
      "source": [
        "**Observation - From the above graph we note the following trends:**\n",
        "\n",
        "**1. The diabetes value increase in the population as they age**\n",
        "\n",
        "**2. But we also see that people with ten year CHD tend to record a higher diabetes value as they age, especially in the age range 38-48 and 48-58, which later falls in value for the population aged 58-68**\n"
      ]
    },
    {
      "cell_type": "markdown",
      "metadata": {
        "id": "Vd1lVp2OMBSU"
      },
      "source": [
        "#4. Conclusion\n",
        "\n",
        "The dataset highlights how females tend to have poorer health in comparison to males in terms of hyper tension values, systolic blood pressure, total cholestrol, etc,  from our findings. We also notice that **age plays an important role** in the overall population's health. \n",
        "\n",
        "We found how male and female tend to experience higher glucose, diabetes, cholestrol values etc, as they age. \n",
        "\n",
        "Sufficient healthcare must be extended to all populations with concentration to the women and the aged population who seem to be sensitive to age and health conditions.\n"
      ]
    }
  ],
  "metadata": {
    "colab": {
      "provenance": [],
      "toc_visible": true
    },
    "kernelspec": {
      "display_name": "Python 3",
      "name": "python3"
    },
    "language_info": {
      "name": "python"
    }
  },
  "nbformat": 4,
  "nbformat_minor": 0
}